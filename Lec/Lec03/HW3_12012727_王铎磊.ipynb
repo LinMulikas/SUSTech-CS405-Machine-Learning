{
 "cells": [
  {
   "cell_type": "markdown",
   "metadata": {
    "colab_type": "text",
    "id": "TyAsw2JuVfaM"
   },
   "source": [
    "# HW3_programQuestion\n",
    "\n",
    "# 12012727 王铎磊"
   ]
  },
  {
   "cell_type": "code",
   "execution_count": 1,
   "metadata": {
    "colab": {},
    "colab_type": "code",
    "id": "nYCgbkJwVg7r"
   },
   "outputs": [],
   "source": [
    "\"\"\"\n",
    "Import libraries that you might require.\n",
    "\"\"\"\n",
    "import numpy as np\n",
    "import pandas as pd\n",
    "import matplotlib.pyplot as plt\n",
    "from sklearn.metrics import mean_squared_error, accuracy_score\n",
    "from sklearn.linear_model import LogisticRegression"
   ]
  },
  {
   "cell_type": "markdown",
   "metadata": {
    "colab_type": "text",
    "id": "2aeHsfeSqlUD"
   },
   "source": [
    "## Logistic Regression and Gradient Descent"
   ]
  },
  {
   "cell_type": "markdown",
   "metadata": {
    "colab_type": "text",
    "id": "4idcCOhWrWU0"
   },
   "source": [
    "In this question, we will try to use logistic regression to solve a binary classification problem. Given some information of the house, such as area and the number of living rooms, would it be expensive? We would like to predict 1 if it is expensive, and 0 otherwise. \n",
    "\n",
    "We will first implement it with a python package, and then try to implement it by updating weights with gradient descent.Batch gradient descent (since we are using all samples at each iteration) and AdaGrad will be implemented. We will also derive the gradient formula."
   ]
  },
  {
   "cell_type": "markdown",
   "metadata": {
    "colab_type": "text",
    "id": "3gR3WFlfqlUS"
   },
   "source": [
    "### a) Implement logistic regression with Scikit learn package. \n",
    "\n",
    "First load data and observe data."
   ]
  },
  {
   "cell_type": "code",
   "execution_count": 28,
   "metadata": {
    "colab": {},
    "colab_type": "code",
    "id": "VUMEYqDrqlUT"
   },
   "outputs": [
    {
     "name": "stdout",
     "output_type": "stream",
     "text": [
      "(800, 11)\n",
      "(400, 11)\n",
      "(800, 1)\n",
      "(400, 1)\n"
     ]
    }
   ],
   "source": [
    "\"\"\"\n",
    "Reads the data.\n",
    "\"\"\"\n",
    "from sklearn.preprocessing import StandardScaler\n",
    "\n",
    "X_train = np.array(pd.read_csv('hw3_house_sales/X_train.csv'))\n",
    "X_test = np.array(pd.read_csv('hw3_house_sales/X_test.csv'))\n",
    "y_train = np.array(pd.read_csv('hw3_house_sales/y_train.csv'))\n",
    "y_test = np.array(pd.read_csv('hw3_house_sales/y_test.csv'))\n",
    "\n",
    "scaler = StandardScaler()\n",
    "X_train = scaler.fit_transform(X_train)\n",
    "X_test = scaler.fit_transform(X_test)\n",
    "\n",
    "\n",
    "print(X_train.shape)\n",
    "print(X_test.shape)\n",
    "print(y_train.shape)\n",
    "print(y_test.shape)"
   ]
  },
  {
   "cell_type": "markdown",
   "metadata": {
    "colab_type": "text",
    "id": "NVmVoQfAUkqe"
   },
   "source": [
    "Fill in the logisticRegressionScikit() function. Report the weights, training accuracy, and the test accuracy."
   ]
  },
  {
   "cell_type": "code",
   "execution_count": 29,
   "metadata": {
    "colab": {},
    "colab_type": "code",
    "id": "psZtnphuGJSj"
   },
   "outputs": [],
   "source": [
    "from sklearn.linear_model import LogisticRegression\n",
    "from sklearn.metrics import accuracy_score\n",
    "\n",
    "def LogisticRegressionScikit(X_train, y_train, X_test, y_test):\n",
    "    \"\"\"\n",
    "    Computes logistic regression with scikit-learn.\n",
    "    \n",
    "    Args:\n",
    "        X_train: feature matrix of training set\n",
    "        y_train: truth value of training set\n",
    "        X_test: feature matrix of test set\n",
    "        y_test: truth value of test set\n",
    "\n",
    "    Returns:  \n",
    "        w: numpy array of learned coefficients\n",
    "        y_pred: numpy array of predicted labels for the test data\n",
    "        score: accuracy of test data\n",
    "    \"\"\"\n",
    "    model = LogisticRegression()\n",
    "    model.fit(X_train, y_train)\n",
    "    coef = model.coef_\n",
    "    y_pred = model.predict(X_test)\n",
    "    score = accuracy_score(y_test, y_pred)\n",
    "    \n",
    "    return coef, y_pred, score\n"
   ]
  },
  {
   "cell_type": "code",
   "execution_count": 30,
   "metadata": {
    "colab": {},
    "colab_type": "code",
    "id": "6GJ7cAepGwqp"
   },
   "outputs": [
    {
     "name": "stdout",
     "output_type": "stream",
     "text": [
      "Accuracy of logistic regression classifier on test set:\n",
      " 0.95\n",
      "logistic regression coefficient:\n",
      " [[ 2.1984913   2.05117235  0.8083355   1.65437155  0.08158752  2.83407121\n",
      "   0.69675203 -0.59988486 -0.9314664   0.03062807  0.        ]]\n"
     ]
    },
    {
     "name": "stderr",
     "output_type": "stream",
     "text": [
      "/opt/homebrew/Caskroom/miniconda/base/lib/python3.9/site-packages/sklearn/utils/validation.py:1111: DataConversionWarning: A column-vector y was passed when a 1d array was expected. Please change the shape of y to (n_samples, ), for example using ravel().\n",
      "  y = column_or_1d(y, warn=True)\n"
     ]
    }
   ],
   "source": [
    "coef_scikit, y_pred_scikit, acc_scikit = LogisticRegressionScikit(X_train, y_train, X_test, y_test)\n",
    "\n",
    "print('Accuracy of logistic regression classifier on test set:\\n {:.2f}'.format(acc_scikit))\n",
    "print('logistic regression coefficient:\\n', coef_scikit)"
   ]
  },
  {
   "cell_type": "markdown",
   "metadata": {},
   "source": [
    "### b) Gradient derivation\n",
    "Calculate the maximum likelihood estimation $L(w)=P(Y|X;w)$, then formulate the stochastic gradient ascent rule."
   ]
  },
  {
   "cell_type": "markdown",
   "metadata": {
    "colab_type": "text",
    "id": "8I06kejCVxv8"
   },
   "source": [
    "### c) Logistic regression with simple gradient descent\n",
    "Fill in the LogisticRegressionSGD() function. To do that, two helper functions, sigmoid_activation() (to calculate the sigmoid function result), and model_optimize() (to calculate the gradient of w), will be needed. Both helper functions can be used in the following AdaGrad optimization function. Use a learning rate of $10^{−4}$, run with 2000 iterations. Report the weights and accuracy. Keep track of the accuracy every 100 iterations in the training set. It will be used later."
   ]
  },
  {
   "cell_type": "code",
   "execution_count": 31,
   "metadata": {
    "colab": {},
    "colab_type": "code",
    "id": "PpkEe4mkQ19p"
   },
   "outputs": [],
   "source": [
    "def sigmoid(x:np.ndarray):\n",
    "    \"\"\"\n",
    "    Calculates the sigmoid function.\n",
    "    \n",
    "    Args:\n",
    "        x: numpy array of input\n",
    "        \n",
    "    Returns:\n",
    "        final_result: numpy array of sigmoid result\n",
    "    \"\"\"\n",
    "    dom = np.exp(-x)\n",
    "    res = 1/(1 + np.exp(-x))\n",
    "    return res"
   ]
  },
  {
   "cell_type": "markdown",
   "metadata": {
    "colab_type": "text",
    "id": "9BJvPP71bFs5"
   },
   "source": [
    "**Remember to derive the gradient (Question 4.2), write down the weight update formula, and hand it in with your latex submission!**"
   ]
  },
  {
   "cell_type": "code",
   "execution_count": 32,
   "metadata": {
    "colab": {},
    "colab_type": "code",
    "id": "2RGSw2AyQ_kE"
   },
   "outputs": [],
   "source": [
    "def getGradient(w:np.ndarray, X:np.ndarray, Y:np.ndarray):\n",
    "    \"\"\"\n",
    "    Calculates gradient of the weights.\n",
    "    \n",
    "    Args:\n",
    "        X: numpy array of training samples\n",
    "        Y: numpy array of training labels\n",
    "        w: numpy array of weights\n",
    "    Returns:\n",
    "        dw: the gradient of the weights\n",
    "\n",
    "    \"\"\"\n",
    "    (N, D) = X.shape\n",
    "    h = sigmoid(X @ w)\n",
    "    dw = X.T @ (Y - h)\n",
    "    \n",
    "    return dw"
   ]
  },
  {
   "cell_type": "code",
   "execution_count": 33,
   "metadata": {},
   "outputs": [],
   "source": [
    "def predict(final_pred:np.ndarray, m:int):\n",
    "    \"\"\"\n",
    "    Predict labels from probability to 0/1 label, threshold 0.5.\n",
    "    \n",
    "    Args:\n",
    "        final_pred: m x 1 vector, probabilty of each sample belonging to class 1\n",
    "        m: number of samples\n",
    "        \n",
    "    Returns:\n",
    "        y_pred: m x 1 vector, label of each sample, can be 0/1\n",
    "    \"\"\"\n",
    "    \n",
    "    y_pred = []\n",
    "    for i in range(m):\n",
    "        if(final_pred[i, 0] >= 0.5):\n",
    "            y_pred.append(1)\n",
    "        else:\n",
    "            y_pred.append(0)\n",
    "    \n",
    "    \n",
    "    return np.array(y_pred).reshape(m, 1)"
   ]
  },
  {
   "cell_type": "code",
   "execution_count": 34,
   "metadata": {},
   "outputs": [],
   "source": [
    "from math import log\n",
    "\n",
    "\n",
    "def lossfn(y_true:np.ndarray, y_prop:np.ndarray):\n",
    "    n = y_true.shape[0]\n",
    "    loss = 0\n",
    "    for i in range(n):\n",
    "        tn = y_true[i]\n",
    "        yn = y_prop[i]\n",
    "        loss -= tn*log(yn) + (1 - tn)*log(1 - yn)\n",
    "    \n",
    "    return loss"
   ]
  },
  {
   "cell_type": "code",
   "execution_count": 35,
   "metadata": {
    "colab": {},
    "colab_type": "code",
    "id": "VI5Fdz6ZRUQ9"
   },
   "outputs": [],
   "source": [
    "def LogisticRegressionSGD(w:np.ndarray, X:np.ndarray, Y:np.ndarray, learning_rate, num_iterations:int):\n",
    "    \"\"\"\n",
    "    Uses SGD to update weights for logistic regression.\n",
    "    \n",
    "    Args:       \n",
    "        w: numpy array of initial weights\n",
    "        X: numpy array of training samples\n",
    "        Y: numpy array of training labels\n",
    "        learning_rate: float learning rate to update w\n",
    "        num_iterations: int number of iterations to update w\n",
    "    \n",
    "    Returns:  \n",
    "        coeff: numpy array of weights after optimization\n",
    "        accuracies: a list of accuracy at each hundred's iteration. With 2000 iterations, \n",
    "                    accuracies should be a list of size 20 \n",
    "    \"\"\"\n",
    "    accuracies = []\n",
    "    loss = []\n",
    "    (N, D) = X.shape\n",
    "    alpha = learning_rate\n",
    "    w = np.zeros((D, 1))\n",
    "    cnt = 0\n",
    "    while(cnt < num_iterations):\n",
    "        grad = getGradient(w, X, Y)\n",
    "        w = w + np.dot(alpha, grad)\n",
    "        cnt += 1\n",
    "        if(cnt % 100 == 0):\n",
    "            Y_pred = predict(X @ w, N)\n",
    "            acc = (np.where(Y_pred == Y)[0].shape[0])/Y.shape[0]\n",
    "            accuracies.append(acc)\n",
    "        \n",
    "        \n",
    "        loss.append(lossfn(Y, sigmoid(X@w)))\n",
    "        \n",
    "    coeff = w\n",
    "    return coeff, accuracies, loss"
   ]
  },
  {
   "cell_type": "markdown",
   "metadata": {
    "colab_type": "text",
    "id": "AQ2M5WETZ4f0"
   },
   "source": [
    "### d) Logistic regression with AdaGrad\n",
    " Fill in the LogisticRegressionAda() function. Use a learning rate of $10^{−4}$, run with 2000 iterations. Report the weights and accuracy. Keep track of the accuracy every 100 iterations in the training set. It will be used later."
   ]
  },
  {
   "cell_type": "code",
   "execution_count": 40,
   "metadata": {
    "colab": {},
    "colab_type": "code",
    "id": "cIO8iOzJRscr"
   },
   "outputs": [],
   "source": [
    "def LogisticRegressionAda(w, X, Y, learning_rate, num_iterations):\n",
    "    \"\"\"\n",
    "    Use AdaGrad to update weights.\n",
    "    \n",
    "    Args:       \n",
    "        w: numpy array of initial weights\n",
    "        X: numpy array of training samples\n",
    "        Y: numpy array of training labels\n",
    "        learning_rate: float learning rate to update w\n",
    "        num_iterations: int number of iterations to update w\n",
    "    \n",
    "    Returns:   \n",
    "        coeff: numpy array of weights after optimization\n",
    "        accuracies: a list of accuracy at each hundred's iteration\n",
    "    \"\"\"\n",
    "    accuracies = []\n",
    "    loss = []\n",
    "    (N, D) = X.shape\n",
    "    alpha = learning_rate\n",
    "    w = np.ones((D, 1))\n",
    "    cnt = 0\n",
    "    while(cnt < num_iterations):\n",
    "        grad = getGradient(w, X, Y)\n",
    "        r = np.linalg.norm(grad)\n",
    "        w = w + np.dot(alpha/r, grad)\n",
    "        cnt += 1\n",
    "        if(cnt % 100 == 0):\n",
    "            Y_pred = predict(X @ w, N)\n",
    "            acc = (np.where(Y_pred == Y)[0].shape[0])/Y.shape[0]\n",
    "            accuracies.append(acc)\n",
    "            \n",
    "            \n",
    "        loss.append(lossfn(Y, sigmoid(X@w)))\n",
    "        \n",
    "    coeff = w\n",
    "    return coeff, accuracies, loss"
   ]
  },
  {
   "cell_type": "markdown",
   "metadata": {
    "colab_type": "text",
    "id": "TScnzScyaCZM"
   },
   "source": [
    "We add a predict() function here to threshold probability prediction into binary classification"
   ]
  },
  {
   "cell_type": "markdown",
   "metadata": {
    "colab_type": "text",
    "id": "iLQA1SHAaRQn"
   },
   "source": [
    "Now we start to use our dataset and construct model."
   ]
  },
  {
   "cell_type": "code",
   "execution_count": 37,
   "metadata": {
    "colab": {},
    "colab_type": "code",
    "id": "HHtOjixmSh86"
   },
   "outputs": [],
   "source": [
    "\n",
    "# Do some data preparation, convert dataframe to numpy array\n",
    "n_features = X_train.shape[1]\n",
    "\n",
    "w = np.zeros((1, n_features))\n",
    "\n",
    "m_train =  X_train.shape[0]\n",
    "m_test =  X_test.shape[0]\n"
   ]
  },
  {
   "cell_type": "markdown",
   "metadata": {
    "colab_type": "text",
    "id": "S-aVaiJzqlU0"
   },
   "source": [
    "Model construction for SGD logistic regression."
   ]
  },
  {
   "cell_type": "code",
   "execution_count": 38,
   "metadata": {
    "colab": {},
    "colab_type": "code",
    "id": "tpa3o6VMTdTc"
   },
   "outputs": [
    {
     "name": "stdout",
     "output_type": "stream",
     "text": [
      "Test Accuracy for SGD 0.475\n",
      "Training Accuracy for SGD 0.955\n"
     ]
    }
   ],
   "source": [
    "#Gradient Descent\n",
    "coeff_SGD, acc_SGD, loss_SGD = LogisticRegressionSGD(w, X_train, y_train, learning_rate=0.0001,num_iterations=2000)\n",
    "\n",
    "# predict label\n",
    "final_train_pred_SGD = predict(X_train @ coeff_SGD, m_train)\n",
    "final_test_pred_SGD = predict(X_train @ coeff_SGD, m_test)\n",
    "# predict label\n",
    "y_train_pred_SGD = predict(final_train_pred_SGD, m_train)\n",
    "y_test_pred_SGD = predict(final_test_pred_SGD, m_test)\n",
    "\n",
    "print('Test Accuracy for SGD', accuracy_score(y_test_pred_SGD, y_test))\n",
    "print('Training Accuracy for SGD', accuracy_score(y_train_pred_SGD, y_train))\n"
   ]
  },
  {
   "cell_type": "markdown",
   "metadata": {
    "colab_type": "text",
    "id": "4cSHZdx-amhq"
   },
   "source": [
    "Model construction for AdaGrad logistic regression."
   ]
  },
  {
   "cell_type": "code",
   "execution_count": 41,
   "metadata": {
    "colab": {},
    "colab_type": "code",
    "id": "idXxXj3zTcwp"
   },
   "outputs": [
    {
     "name": "stdout",
     "output_type": "stream",
     "text": [
      "Optimized weights for Ada:\n",
      " [[1.01956174]\n",
      " [1.05871498]\n",
      " [0.96650501]\n",
      " [1.05966782]\n",
      " [1.01549104]\n",
      " [1.00687289]\n",
      " [0.98781242]\n",
      " [0.91456998]\n",
      " [0.85759089]\n",
      " [0.94111367]]\n",
      "Optimized intercept for Ada:\n",
      " [1.]\n",
      "Training Accuracy for Ada:\n",
      " 0.8775\n",
      "Test Accuracy for Ada:\n",
      " 0.4725\n"
     ]
    }
   ],
   "source": [
    "#AdaGrad Descent\n",
    "coeff_Ada, acc_Ada, loss_Ada = LogisticRegressionAda(w, X_train, y_train, learning_rate=0.0001,num_iterations=2000)\n",
    "\n",
    "# TODO: predict probability\n",
    "final_train_pred_Ada = predict(X_train @ coeff_Ada, m_train)\n",
    "final_test_pred_Ada = predict(X_train @ coeff_Ada, m_test)\n",
    "# predict label\n",
    "y_train_pred_Ada = predict(final_train_pred_Ada, m_train)\n",
    "y_test_pred_Ada = predict(final_test_pred_Ada, m_test)\n",
    "\n",
    "print('Optimized weights for Ada:\\n', coeff_Ada[:-1])\n",
    "print('Optimized intercept for Ada:\\n', coeff_Ada[-1, :])\n",
    "\n",
    "print('Training Accuracy for Ada:\\n', accuracy_score(y_train_pred_Ada, y_train))\n",
    "print('Test Accuracy for Ada:\\n', accuracy_score(y_test_pred_Ada, y_test))"
   ]
  },
  {
   "cell_type": "markdown",
   "metadata": {
    "colab_type": "text",
    "id": "egjfJWHWasSQ"
   },
   "source": [
    "Plot accuracy vs iteration for SGD and AdaGrad. Compare the performance difference. Briefly explain the reason."
   ]
  },
  {
   "cell_type": "code",
   "execution_count": 42,
   "metadata": {
    "colab": {},
    "colab_type": "code",
    "id": "AFiMS7M4UEU7"
   },
   "outputs": [
    {
     "data": {
      "image/png": "[encoded data removed]",
      "text/plain": [
       "<Figure size 432x288 with 1 Axes>"
      ]
     },
     "metadata": {
      "needs_background": "light"
     },
     "output_type": "display_data"
    }
   ],
   "source": [
    "# Plot accuracy vs iteration for SGD and AdaGrad\n",
    "plt.plot(acc_SGD, label='SGD')\n",
    "plt.plot(acc_Ada, label='AdaGrad')\n",
    "plt.ylabel('Accuracy')\n",
    "plt.xlabel('iterations (per hundreds)')\n",
    "plt.title('Accuracy improvement over time')\n",
    "plt.legend(loc='lower right')\n",
    "plt.show()"
   ]
  },
  {
   "cell_type": "markdown",
   "metadata": {},
   "source": [
    "### e) Comparision of Scikit, SGD and AdaGrad convergence\n",
    "Plot the loss function of SGD and AdaGrad over 2000 iterations on both the training and test data. What do you observe? Which one has better accuracy on the test dataset? Why might that be the case?"
   ]
  },
  {
   "cell_type": "code",
   "execution_count": 43,
   "metadata": {},
   "outputs": [
    {
     "data": {
      "image/png": "[encoded data removed]",
      "text/plain": [
       "<Figure size 432x288 with 1 Axes>"
      ]
     },
     "metadata": {
      "needs_background": "light"
     },
     "output_type": "display_data"
    }
   ],
   "source": [
    "plt.plot(loss_SGD, label=\"SGD\")\n",
    "plt.plot(loss_Ada, label=\"AdaGrad\")\n",
    "plt.ylabel(\"Loss function\")\n",
    "plt.title(\"Loss function over iterations\")\n",
    "plt.show()"
   ]
  },
  {
   "cell_type": "markdown",
   "metadata": {},
   "source": [
    "发现 AdaGrad 的收敛是比较稳定且慢速的，因此 2000 次迭代之后无法保证已经达到最优解. 在本数据集中，SGD 变现更好，猜测可能是迭代次数不够.\n",
    "\n",
    "在后续的测试中，得到 20000 次迭代的结果如附件 \"output.png\""
   ]
  },
  {
   "cell_type": "code",
   "execution_count": 44,
   "metadata": {},
   "outputs": [
    {
     "data": {
      "image/png": "[encoded data removed]",
      "text/plain": [
       "<Figure size 432x288 with 1 Axes>"
      ]
     },
     "metadata": {
      "needs_background": "light"
     },
     "output_type": "display_data"
    }
   ],
   "source": [
    "coeff_Ada_2, acc_Ada_2, loss_Ada_2 = LogisticRegressionAda(w, X_train, y_train, learning_rate=0.0001,num_iterations=20000)\n",
    "plt.plot(loss_SGD, label=\"SGD\")\n",
    "plt.plot(loss_Ada_2, label=\"AdaGrad\")\n",
    "plt.ylabel(\"Loss function\")\n",
    "plt.title(\"Loss function over iterations\")\n",
    "plt.show()"
   ]
  }
 ],
 "metadata": {
  "colab": {
   "collapsed_sections": [],
   "name": "hw3.ipynb",
   "provenance": []
  },
  "kernelspec": {
   "display_name": "Python 3.9.12 ('base')",
   "language": "python",
   "name": "python3"
  },
  "language_info": {
   "codemirror_mode": {
    "name": "ipython",
    "version": 3
   },
   "file_extension": ".py",
   "mimetype": "text/x-python",
   "name": "python",
   "nbconvert_exporter": "python",
   "pygments_lexer": "ipython3",
   "version": "3.9.12"
  },
  "vscode": {
   "interpreter": {
    "hash": "e7cb1b9ae4d417fedf7f40a8eec98f7cfbd359e096bd857395a915f4609834ce"
   }
  }
 },
 "nbformat": 4,
 "nbformat_minor": 1
}
