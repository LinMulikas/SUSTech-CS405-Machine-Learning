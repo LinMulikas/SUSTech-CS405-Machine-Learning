{
 "cells": [
  {
   "cell_type": "markdown",
   "metadata": {},
   "source": [
    "# Lab 04 12012727 Duolei Wang"
   ]
  },
  {
   "cell_type": "markdown",
   "metadata": {},
   "source": [
    "## Preprocessing and libs importing"
   ]
  },
  {
   "cell_type": "code",
   "execution_count": 1,
   "metadata": {},
   "outputs": [],
   "source": [
    "from sklearn.linear_model import *\n",
    "from sklearn.metrics import r2_score\n",
    "from sklearn.model_selection import GridSearchCV\n",
    "from sklearn.pipeline import Pipeline\n",
    "from sklearn.datasets import fetch_california_housing\n",
    "from sklearn.preprocessing import PolynomialFeatures\n",
    "from sklearn.preprocessing import StandardScaler\n",
    "from sklearn.model_selection import train_test_split\n",
    "import numpy as np\n",
    "import matplotlib.pyplot as plt"
   ]
  },
  {
   "cell_type": "code",
   "execution_count": 2,
   "metadata": {},
   "outputs": [],
   "source": [
    "load_housing = fetch_california_housing()\n",
    "X = load_housing.data\n",
    "Y = load_housing.target"
   ]
  },
  {
   "cell_type": "code",
   "execution_count": 3,
   "metadata": {},
   "outputs": [],
   "source": [
    "x_train, x_test, y_train, y_test = train_test_split(X, Y, train_size = 0.8)"
   ]
  },
  {
   "cell_type": "markdown",
   "metadata": {},
   "source": [
    "## Cross-validation"
   ]
  },
  {
   "cell_type": "markdown",
   "metadata": {},
   "source": [
    "采用交叉检验，来判断多项式回归系列的模型效果"
   ]
  },
  {
   "cell_type": "code",
   "execution_count": 43,
   "metadata": {},
   "outputs": [
    {
     "data": {
      "text/plain": [
       "(0.6002392644990208, {'poly__degree': 1}, 0.611347171786541)"
      ]
     },
     "execution_count": 43,
     "metadata": {},
     "output_type": "execute_result"
    }
   ],
   "source": [
    "model = Pipeline(\n",
    "    [('poly', PolynomialFeatures()), \n",
    "     ('scala', StandardScaler()), \n",
    "     ('linear', LinearRegression())]\n",
    ")\n",
    "\n",
    "params = {'poly__degree': [1, 2, 3, 4]}\n",
    "\n",
    "grid_search = GridSearchCV(model, param_grid=params, cv=5)\n",
    "\n",
    "grid_search.fit(x_train, y_train)\n",
    "grid_search.best_score_, grid_search.best_params_, grid_search.score(x_test, y_test)"
   ]
  },
  {
   "cell_type": "markdown",
   "metadata": {},
   "source": [
    "结果发现，1 次多项式（线性回归）具有最好的交叉检验效果."
   ]
  },
  {
   "cell_type": "code",
   "execution_count": 5,
   "metadata": {},
   "outputs": [
    {
     "name": "stdout",
     "output_type": "stream",
     "text": [
      "0.6113471717865497\n"
     ]
    },
    {
     "data": {
      "image/png": "[encoded data removed]",
      "text/plain": [
       "<Figure size 432x288 with 1 Axes>"
      ]
     },
     "metadata": {
      "needs_background": "light"
     },
     "output_type": "display_data"
    }
   ],
   "source": [
    "linear_model = LinearRegression()\n",
    "linear_model.fit(x_train, y_train)\n",
    "y_pred = linear_model.predict(x_test)\n",
    "\n",
    "print(r2_score(y_test, y_pred))\n",
    "\n",
    "\n",
    "plt.plot(range(len(y_pred)), sorted(y_pred), c='red')\n",
    "plt.plot(range(len(y_test)), sorted(y_test), c='green')\n",
    "plt.legend([\"predict\", \"real\"])\n",
    "plt.show()"
   ]
  },
  {
   "cell_type": "markdown",
   "metadata": {},
   "source": [
    "## R^2 Score"
   ]
  },
  {
   "cell_type": "markdown",
   "metadata": {},
   "source": [
    "### 多项式回归（含线性回归）"
   ]
  },
  {
   "cell_type": "markdown",
   "metadata": {},
   "source": [
    "如果采用 R^2 作为指标，考虑 1-5 次多项式回归，有以下结果："
   ]
  },
  {
   "cell_type": "code",
   "execution_count": 68,
   "metadata": {},
   "outputs": [],
   "source": [
    "def r2_Score_Poly_Linear(deg:int, X_train, Y_train, X_test, Y_test):\n",
    "    poly = PolynomialFeatures(deg)\n",
    "    \n",
    "    X_train_new = poly.fit_transform(X_train)\n",
    "    X_test_new = poly.fit_transform(X_test)\n",
    "    \n",
    "    linear = LinearRegression()\n",
    "    linear.fit(X_train_new, y_train)\n",
    "    \n",
    "    y_pred1 = linear.predict(X_train_new)\n",
    "    y_pred2 = linear.predict(X_test_new)\n",
    "    \n",
    "    \n",
    "    return (r2_score(Y_test, y_pred2), r2_score(Y_train, y_pred1))"
   ]
  },
  {
   "cell_type": "code",
   "execution_count": 69,
   "metadata": {},
   "outputs": [
    {
     "name": "stdout",
     "output_type": "stream",
     "text": [
      "R2 Score: [(0.6113471717865497, 0.6048192101873069), (-0.3336837476527319, 0.6805742629432449), (-36784.4461157416, 0.7382073974695745), (-2129025266.9530916, 0.7577282666180253), (-248491625411.18588, 0.7279233222076302)]\n"
     ]
    }
   ],
   "source": [
    "lst_poly_r2scores = []\n",
    "\n",
    "for i in range(1, 6):\n",
    "    lst_poly_r2scores.append(r2_Score_Poly_Linear(i, x_train, y_train, x_test, y_test))\n",
    "\n",
    "\n",
    "print(\"R2 Score:\", lst_poly_r2scores)"
   ]
  },
  {
   "cell_type": "markdown",
   "metadata": {},
   "source": [
    "```\n",
    "R2 Score [predict, in dataset]: \n",
    "[(0.6113471717865497, 0.6048192101873069), \n",
    "(-0.3336837476527319, 0.6805742629432449), \n",
    "(-36784.4461157416, 0.7382073974695745), \n",
    "(-2129025266.9530916, 0.7577282666180253), \n",
    "(-248491625411.18588, 0.7279233222076302)]\n",
    "```"
   ]
  },
  {
   "cell_type": "markdown",
   "metadata": {},
   "source": [
    "上述\n",
    "发现效果对于预测数据不是很好，多项式回归超过两次之后几乎不具备预测功能.\n",
    "对于数据集内部的样本，具有较强的 r2 score, 因此为了兼顾预测功能，线性回归里建议选取线性回归."
   ]
  },
  {
   "cell_type": "markdown",
   "metadata": {},
   "source": [
    "### Ridge 回归"
   ]
  },
  {
   "cell_type": "markdown",
   "metadata": {},
   "source": [
    "猜测数据集会不会是因为 X 的列向量之间的相关性较强，造成一些问题，尝试使用 Ridge 回归"
   ]
  },
  {
   "cell_type": "code",
   "execution_count": 7,
   "metadata": {},
   "outputs": [],
   "source": [
    "import seaborn as sns\n",
    "import pandas as pd"
   ]
  },
  {
   "cell_type": "code",
   "execution_count": 8,
   "metadata": {},
   "outputs": [
    {
     "data": {
      "text/plain": [
       "<AxesSubplot:>"
      ]
     },
     "execution_count": 8,
     "metadata": {},
     "output_type": "execute_result"
    },
    {
     "data": {
      "image/png": "[encoded data removed]",
      "text/plain": [
       "<Figure size 432x288 with 2 Axes>"
      ]
     },
     "metadata": {
      "needs_background": "light"
     },
     "output_type": "display_data"
    }
   ],
   "source": [
    "corr = pd.DataFrame(X).corr()\n",
    "sns.heatmap(corr, annot=True)"
   ]
  },
  {
   "cell_type": "markdown",
   "metadata": {},
   "source": [
    "如上图发现经纬度是高度相关的"
   ]
  },
  {
   "cell_type": "code",
   "execution_count": 9,
   "metadata": {},
   "outputs": [],
   "source": [
    "from sklearn.linear_model import Ridge"
   ]
  },
  {
   "cell_type": "code",
   "execution_count": 10,
   "metadata": {},
   "outputs": [],
   "source": [
    "# 此部分代码运行较慢，建议谨慎使用\n",
    "model2 = Pipeline(\n",
    "    [('poly', PolynomialFeatures()), ('scala', StandardScaler()), ('ridge', Ridge())]\n",
    ")\n",
    "\n",
    "params2 = {'poly__degree':[1,2,3,4],\n",
    "           'ridge__alpha':list(x / 10 for x in range(0, 101)),\n",
    "           'ridge__max_iter':[5,10,100]}\n",
    "\n",
    "grid_search_2 = GridSearchCV(model2, params2)\n",
    "grid_search_2.fit(x_train, y_train)\n",
    "grid_search_2.best_estimator_, grid_search_2.best_params_"
   ]
  },
  {
   "cell_type": "markdown",
   "metadata": {},
   "source": [
    "迭代测试出结果为：\n",
    "\n",
    "(Pipeline(steps=[('poly', PolynomialFeatures(degree=1)),\n",
    "                 ('scala', StandardScaler()),\n",
    "                 ('ridge', Ridge(alpha=10.0, max_iter=5))]),\n",
    " {'poly__degree': 1, 'ridge__alpha': 10.0, 'ridge__max_iter': 5})"
   ]
  },
  {
   "cell_type": "markdown",
   "metadata": {},
   "source": [
    "这里测试一下最优参数下的 Ridge 回归的 R^2 Score"
   ]
  },
  {
   "cell_type": "code",
   "execution_count": 11,
   "metadata": {},
   "outputs": [
    {
     "name": "stdout",
     "output_type": "stream",
     "text": [
      "0.6113404084941937\n"
     ]
    }
   ],
   "source": [
    "model_poly_ridge = Pipeline(\n",
    "    [('poly', PolynomialFeatures(1)), ('scala', StandardScaler()), ('ridge', Ridge())]\n",
    ")\n",
    "\n",
    "model_poly_ridge.fit(x_train, y_train)\n",
    "\n",
    "y_pred_ridge = model_poly_ridge.predict(x_test)\n",
    "\n",
    "print(r2_score(y_test, y_pred_ridge))"
   ]
  },
  {
   "cell_type": "markdown",
   "metadata": {},
   "source": [
    "0.6129593090870646"
   ]
  },
  {
   "cell_type": "code",
   "execution_count": 12,
   "metadata": {},
   "outputs": [],
   "source": [
    "def r2_Score_Poly_Ridge(degree:int, X, Y):\n",
    "    poly = PolynomialFeatures(degree)\n",
    "    X = poly.fit_transform(X)\n",
    "    \n",
    "    lm = Ridge()\n",
    "    lm.fit(X, Y)\n",
    "    \n",
    "    y_pred = lm.predict(X)\n",
    "    \n",
    "    return r2_score(Y, y_pred)"
   ]
  },
  {
   "cell_type": "code",
   "execution_count": 14,
   "metadata": {},
   "outputs": [
    {
     "name": "stderr",
     "output_type": "stream",
     "text": [
      "/opt/homebrew/Caskroom/miniconda/base/lib/python3.9/site-packages/sklearn/linear_model/_ridge.py:212: LinAlgWarning: Ill-conditioned matrix (rcond=2.34124e-19): result may not be accurate.\n",
      "  return linalg.solve(A, Xy, assume_a=\"pos\", overwrite_a=True).T\n",
      "/opt/homebrew/Caskroom/miniconda/base/lib/python3.9/site-packages/sklearn/linear_model/_ridge.py:212: LinAlgWarning: Ill-conditioned matrix (rcond=2.47605e-28): result may not be accurate.\n",
      "  return linalg.solve(A, Xy, assume_a=\"pos\", overwrite_a=True).T\n"
     ]
    },
    {
     "name": "stdout",
     "output_type": "stream",
     "text": [
      "R2 Score: [0.606232685199805, 0.6832976293317481, 0.737190943634215, 0.7451024403025747, 0.7258333704225715]\n"
     ]
    }
   ],
   "source": [
    "lst_ridge_r2_scores = []\n",
    "\n",
    "for i in range(1, 6):\n",
    "    lst_ridge_r2_scores.append(r2_Score_Poly_Ridge(i, X, Y))\n",
    "\n",
    "\n",
    "print(\"R2 Score:\", lst_poly_r2scores)"
   ]
  },
  {
   "cell_type": "markdown",
   "metadata": {},
   "source": [
    "对于原来的数据集内的数据而言：\n",
    "R2 Score: [0.606232685199805, 0.6832976293317481, 0.737190943634215, 0.7451024403025747, 0.7258333704225715]"
   ]
  },
  {
   "cell_type": "markdown",
   "metadata": {},
   "source": [
    "### 小结"
   ]
  },
  {
   "cell_type": "markdown",
   "metadata": {},
   "source": [
    "可以看到，多项式+线性回归（或者 Ridge 回归）时，都是在 4 次多项式具有给定数据最好的 R^2 检验效果，这里猜测是因为数据的 target 绘制出来，具有大概三个波动，于是用四次多项式拟合会造成相对更好的结果.\n",
    "\n",
    "但是考虑到要具有一定的预测功能，因此采用 1, 2 次多项式，这里根据 r2 得分选择 1 次多项式回归."
   ]
  },
  {
   "cell_type": "markdown",
   "metadata": {},
   "source": [
    "## Final model Choosing"
   ]
  },
  {
   "cell_type": "markdown",
   "metadata": {},
   "source": [
    "由上述结果可以看出来，可以使用多项式特征变换后的线性回归.\n",
    "以交叉检验的稳定性为主要指标的话，则选取 deg=1，以 R^2 为指标的话，则选取 deg=4.\n",
    "这里采取 R^2 指标，poly deg=4."
   ]
  },
  {
   "cell_type": "code",
   "execution_count": 70,
   "metadata": {},
   "outputs": [
    {
     "data": {
      "text/plain": [
       "0.611347171786541"
      ]
     },
     "execution_count": 70,
     "metadata": {},
     "output_type": "execute_result"
    }
   ],
   "source": [
    "model_final = Pipeline(\n",
    "    [('poly', PolynomialFeatures(1)), ('scala', StandardScaler()), ('linear', LinearRegression())]\n",
    ")\n",
    "\n",
    "model_final.fit(x_train, y_train)\n",
    "y_pred_final = model_final.predict(x_test)\n",
    "\n",
    "print(\"R2 score:\", r2_score(y_test, y_pred_final))"
   ]
  }
 ],
 "metadata": {
  "kernelspec": {
   "display_name": "Python 3.10.6 64-bit",
   "language": "python",
   "name": "python3"
  },
  "language_info": {
   "codemirror_mode": {
    "name": "ipython",
    "version": 3
   },
   "file_extension": ".py",
   "mimetype": "text/x-python",
   "name": "python",
   "nbconvert_exporter": "python",
   "pygments_lexer": "ipython3",
   "version": "3.10.6"
  },
  "orig_nbformat": 4,
  "vscode": {
   "interpreter": {
    "hash": "b0fa6594d8f4cbf19f97940f81e996739fb7646882a419484c72d19e05852a7e"
   }
  }
 },
 "nbformat": 4,
 "nbformat_minor": 2
}
