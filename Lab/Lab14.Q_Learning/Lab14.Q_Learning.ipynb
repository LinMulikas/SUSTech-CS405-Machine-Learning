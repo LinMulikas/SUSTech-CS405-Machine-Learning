{
 "cells": [
  {
   "cell_type": "markdown",
   "metadata": {
    "toc": true
   },
   "source": [
    "<h1>Table of Contents<span class=\"tocSkip\"></span></h1>\n",
    "<div class=\"toc\"><ul class=\"toc-item\"><li><span><a href=\"#Objective\" data-toc-modified-id=\"Objective-1\"><span class=\"toc-item-num\">1&nbsp;&nbsp;</span>Objective</a></span></li><li><span><a href=\"#Introduction-for-Q-Learning\" data-toc-modified-id=\"Introduction-for-Q-Learning-2\"><span class=\"toc-item-num\">2&nbsp;&nbsp;</span>Introduction for Q-Learning</a></span><ul class=\"toc-item\"><li><span><a href=\"#What-is-Q-Learning?\" data-toc-modified-id=\"What-is-Q-Learning?-2.1\"><span class=\"toc-item-num\">2.1&nbsp;&nbsp;</span>What is Q-Learning?</a></span></li><li><span><a href=\"#Q-Function\" data-toc-modified-id=\"Q-Function-2.2\"><span class=\"toc-item-num\">2.2&nbsp;&nbsp;</span>Q-Function</a></span></li><li><span><a href=\"#Q-table\" data-toc-modified-id=\"Q-table-2.3\"><span class=\"toc-item-num\">2.3&nbsp;&nbsp;</span>Q-table</a></span></li><li><span><a href=\"#The-Q-Learning-algorithm\" data-toc-modified-id=\"The-Q-Learning-algorithm-2.4\"><span class=\"toc-item-num\">2.4&nbsp;&nbsp;</span>The Q-Learning algorithm</a></span><ul class=\"toc-item\"><li><span><a href=\"#Step-1:-We-initialize-the-Q-Table\" data-toc-modified-id=\"Step-1:-We-initialize-the-Q-Table-2.4.1\"><span class=\"toc-item-num\">2.4.1&nbsp;&nbsp;</span>Step 1: We initialize the Q-Table</a></span></li><li><span><a href=\"#Step-2:-Choose-action-using-Epsilon-Greedy-Strategy\" data-toc-modified-id=\"Step-2:-Choose-action-using-Epsilon-Greedy-Strategy-2.4.2\"><span class=\"toc-item-num\">2.4.2&nbsp;&nbsp;</span>Step 2: Choose action using Epsilon Greedy Strategy</a></span></li><li><span><a href=\"#Step-3:-Perform-action-$A_t$,-gets-reward-$R_{t+1}-$and-next-state-$S_{t+1}$\" data-toc-modified-id=\"Step-3:-Perform-action-$A_t$,-gets-reward-$R_{t+1}-$and-next-state-$S_{t+1}$-2.4.3\"><span class=\"toc-item-num\">2.4.3&nbsp;&nbsp;</span>Step 3: Perform action $A_t$, gets reward $R_{t+1} $and next state $S_{t+1}$</a></span></li><li><span><a href=\"#Step-4:-Update-$Q(S_t,-A_t)$\" data-toc-modified-id=\"Step-4:-Update-$Q(S_t,-A_t)$-2.4.4\"><span class=\"toc-item-num\">2.4.4&nbsp;&nbsp;</span>Step 4: Update $Q(S_t, A_t)$</a></span></li></ul></li><li><span><a href=\"#Off-policy-vs-On-policy\" data-toc-modified-id=\"Off-policy-vs-On-policy-2.5\"><span class=\"toc-item-num\">2.5&nbsp;&nbsp;</span><strong>Off-policy vs On-policy</strong></a></span></li></ul></li><li><span><a href=\"#Q-Learning-tutorials\" data-toc-modified-id=\"Q-Learning-tutorials-3\"><span class=\"toc-item-num\">3&nbsp;&nbsp;</span>Q-Learning tutorials</a></span><ul class=\"toc-item\"><li><span><a href=\"#Q-Learning-with-FrozenLake-v1\" data-toc-modified-id=\"Q-Learning-with-FrozenLake-v1-3.1\"><span class=\"toc-item-num\">3.1&nbsp;&nbsp;</span>Q-Learning with FrozenLake-v1</a></span><ul class=\"toc-item\"><li><span><a href=\"#Install-dependencies\" data-toc-modified-id=\"Install-dependencies-3.1.1\"><span class=\"toc-item-num\">3.1.1&nbsp;&nbsp;</span>Install dependencies</a></span></li><li><span><a href=\"#Import-the-packages\" data-toc-modified-id=\"Import-the-packages-3.1.2\"><span class=\"toc-item-num\">3.1.2&nbsp;&nbsp;</span>Import the packages</a></span></li></ul></li><li><span><a href=\"#Create-Frozen-Lake--environment\" data-toc-modified-id=\"Create-Frozen-Lake--environment-3.2\"><span class=\"toc-item-num\">3.2&nbsp;&nbsp;</span>Create Frozen Lake  environment</a></span><ul class=\"toc-item\"><li><span><a href=\"#Understanding-the-FrozenLake-environment\" data-toc-modified-id=\"Understanding-the-FrozenLake-environment-3.2.1\"><span class=\"toc-item-num\">3.2.1&nbsp;&nbsp;</span>Understanding the FrozenLake environment</a></span></li><li><span><a href=\"#Create-and-Initialize-the-Q-table\" data-toc-modified-id=\"Create-and-Initialize-the-Q-table-3.2.2\"><span class=\"toc-item-num\">3.2.2&nbsp;&nbsp;</span>Create and Initialize the Q-table</a></span></li><li><span><a href=\"#Define-the-epsilon-greedy-policy\" data-toc-modified-id=\"Define-the-epsilon-greedy-policy-3.2.3\"><span class=\"toc-item-num\">3.2.3&nbsp;&nbsp;</span>Define the epsilon-greedy policy</a></span></li><li><span><a href=\"#Define-the-hyperparameters\" data-toc-modified-id=\"Define-the-hyperparameters-3.2.4\"><span class=\"toc-item-num\">3.2.4&nbsp;&nbsp;</span>Define the hyperparameters</a></span></li><li><span><a href=\"#Training-the-model\" data-toc-modified-id=\"Training-the-model-3.2.5\"><span class=\"toc-item-num\">3.2.5&nbsp;&nbsp;</span>Training the model</a></span></li><li><span><a href=\"#Tranined-Q-Learning-table\" data-toc-modified-id=\"Tranined-Q-Learning-table-3.2.6\"><span class=\"toc-item-num\">3.2.6&nbsp;&nbsp;</span>Tranined Q-Learning table</a></span></li><li><span><a href=\"#Model-evaluation\" data-toc-modified-id=\"Model-evaluation-3.2.7\"><span class=\"toc-item-num\">3.2.7&nbsp;&nbsp;</span>Model evaluation</a></span></li></ul></li><li><span><a href=\"#Visualizing-the-results\" data-toc-modified-id=\"Visualizing-the-results-3.3\"><span class=\"toc-item-num\">3.3&nbsp;&nbsp;</span>Visualizing the results</a></span></li></ul></li><li><span><a href=\"#LAB-Assignment\" data-toc-modified-id=\"LAB-Assignment-4\"><span class=\"toc-item-num\">4&nbsp;&nbsp;</span>LAB Assignment</a></span><ul class=\"toc-item\"><li><span><a href=\"#Exercise-(-Q-Learning-with-Taxi-v3-🚕)-(100-Points)\" data-toc-modified-id=\"Exercise-(-Q-Learning-with-Taxi-v3-🚕)-(100-Points)-4.1\"><span class=\"toc-item-num\">4.1&nbsp;&nbsp;</span>Exercise ( Q-Learning with Taxi-v3 🚕) (100 Points)</a></span></li><li><span><a href=\"#Step-0-Import-the-packages\" data-toc-modified-id=\"Step-0-Import-the-packages-4.2\"><span class=\"toc-item-num\">4.2&nbsp;&nbsp;</span>Step 0 Import the packages</a></span></li><li><span><a href=\"#Step-1-Create-Taxi-v3-🚕--environment\" data-toc-modified-id=\"Step-1-Create-Taxi-v3-🚕--environment-4.3\"><span class=\"toc-item-num\">4.3&nbsp;&nbsp;</span>Step 1 Create Taxi-v3 🚕  environment</a></span></li><li><span><a href=\"#Step-2--Create-the-Q-table-and-initialize-it\" data-toc-modified-id=\"Step-2--Create-the-Q-table-and-initialize-it-4.4\"><span class=\"toc-item-num\">4.4&nbsp;&nbsp;</span>Step 2  Create the Q-table and initialize it</a></span></li><li><span><a href=\"#Step-3-Configure-the-hyperparameters\" data-toc-modified-id=\"Step-3-Configure-the-hyperparameters-4.5\"><span class=\"toc-item-num\">4.5&nbsp;&nbsp;</span>Step 3 Configure the hyperparameters</a></span></li><li><span><a href=\"#Step-4-Q-Learning-algorithm\" data-toc-modified-id=\"Step-4-Q-Learning-algorithm-4.6\"><span class=\"toc-item-num\">4.6&nbsp;&nbsp;</span>Step 4 Q Learning algorithm</a></span></li><li><span><a href=\"#Step-5-Model-evaluation\" data-toc-modified-id=\"Step-5-Model-evaluation-4.7\"><span class=\"toc-item-num\">4.7&nbsp;&nbsp;</span>Step 5 Model evaluation</a></span></li><li><span><a href=\"#Step-6-Visualizing-the-results\" data-toc-modified-id=\"Step-6-Visualizing-the-results-4.8\"><span class=\"toc-item-num\">4.8&nbsp;&nbsp;</span>Step 6 Visualizing the results</a></span></li></ul></li></ul></div>"
   ]
  },
  {
   "cell_type": "markdown",
   "metadata": {
    "id": "1JZkkkRezF2h"
   },
   "source": [
    "# LAB14 tutorial for Machine Learning <br > Q-Learning\n",
    "> The document description are designed by JIa Yanhong in 2022. Nov. 23th\n",
    "------"
   ]
  },
  {
   "cell_type": "markdown",
   "metadata": {},
   "source": [
    "## Objective\n",
    "\n",
    "- Understand the theory of Q-Learning\n",
    "- Be able to code from scratch a Q-Learning agent.\n",
    "- Be able to use **Gym**, the environment library.\n",
    "- Complete the LAB assignment and submit it to BB or sakai.\n",
    "\n",
    "------"
   ]
  },
  {
   "cell_type": "markdown",
   "metadata": {},
   "source": [
    "## Introduction for Q-Learning\n",
    "### What is Q-Learning?\n",
    "\n",
    "Q-Learning is an **off-policy value-based method that uses a TD approach to train its action-value function:**\n",
    "\n",
    "- **Off-policy**:Using a different policy for acting and updating.\n",
    "- **Value-based method**: finds the optimal policy indirectly by training a value or action-value function that will tell us the value of each state or each state-action pair.\n",
    "- **Uses a TD approach**: updates its action-value function at each step instead of at the end of the episode."
   ]
  },
  {
   "cell_type": "markdown",
   "metadata": {},
   "source": [
    "###  Q-Function\n",
    "\n",
    "**Q-Learning is the algorithm we use to train our Q-Function**, an **action-value function** that determines the value of being at a particular state and taking a specific action at that state.\n",
    "\n",
    "<div  align=\"center\"><img src=\"images/Bellman_Equation_63ce32c644-166962529879935.png\" alt=\"Bellman Equation\" width=600 /></div>\n",
    "\n",
    "Given a state and action, our Q Function outputs a state-action value (also called Q-value)\n",
    "\n",
    "The **Q comes from \"the Quality\" of that action at that state.**"
   ]
  },
  {
   "cell_type": "markdown",
   "metadata": {},
   "source": [
    "###  Q-table\n",
    "\n",
    "Internally, our Q-function has **a Q-table, a table where each cell corresponds to a state-action value pair value.** Think of this Q-table as **the memory or cheat sheet of our Q-function.**\n",
    "\n",
    "If we take this maze example:\n",
    "\n",
    "<div  align=\"center\"><img src=\"images/Maze-1.jpg\" alt=\"Maze example \" width=400 /></div>\n",
    "\n",
    "The Q-Table is initialized. That's why all values are = 0. This table **contains, for each state, the four state-action values.**\n",
    "\n",
    "<div  align=\"center\"><img src=\"images/Maze-2.jpg\" alt=\"Maze example\"width=600 /></div>\n",
    "\n",
    "Here we see that the **state-action value of the initial state and going up is 0:**\n",
    "\n",
    "<div  align=\"center\"><img src=\"images/Maze-3.jpg\" alt=\"Maze example\" width=600 /></div>\n",
    "\n",
    "Therefore, Q-function contains a Q-table **that has the value of each-state action pair.** And given a state and action, **our Q-Function will search inside its Q-table to output the value.**\n",
    "\n",
    "<div  align=\"center\"><img src=\"images/Q-function-2.jpg\" alt=\"Q-function\" width=600 /></div>\n",
    "\n",
    "\n",
    "\n",
    "Given a state and action pair, our Q-function will search inside its Q-table to output the state-action pair value (the Q value).\n",
    "\n",
    "\n",
    "\n",
    "If we recap, *Q-Learning* **is the RL algorithm that:**\n",
    "\n",
    "- Trains *Q-Function* (an **action-value function**) which internally is a *Q-table* **that contains all the state-action pair values.**\n",
    "- Given a state and action, our Q-Function **will search into its Q-table the corresponding value.**\n",
    "- When the training is done, **we have an optimal Q-function, which means we have optimal Q-Table.**\n",
    "- And if we **have an optimal Q-function**, we **have an optimal policy** since we **know for each state what is the best action to take.**\n",
    "\n",
    "<div  align=\"center\"><img src=\"images/link-value-policy.jpg\" alt=\"Link value policy\"width=600 /></div>\n",
    "\n",
    "But, in the beginning, **our Q-Table is useless since it gives arbitrary values for each state-action pair** (most of the time, we initialize the Q-Table to 0 values). But, as we'll **explore the environment and update our Q-Table, it will give us better and better approximations.**\n",
    "\n",
    "<div  align=\"center\"><img src=\"images/Q-learning-1.jpg\" alt=\"Q-learning\"width=600 /></div>\n",
    "\n",
    "We see here that with the training, our Q-Table is better since, thanks to it, we can know the value of each state-action pair.\n",
    "\n",
    "So now that we understand what Q-Learning, Q-Function, and Q-Table are, **let's dive deeper into the Q-Learning algorithm**."
   ]
  },
  {
   "cell_type": "markdown",
   "metadata": {},
   "source": [
    "### The Q-Learning algorithm\n",
    "\n",
    "**The Q-Learning algorithm** flow is as follows:\n",
    "\n",
    "<div  align=\"center\"><img src=\"images/Q_Learning_Process_134331efc1.png\" alt=\"Q-Learning Process \" width=300 /></div>\n",
    "\n",
    "Here is the Q-Learning pseudocode:\n",
    "\n",
    "<div  align=\"center\"><img src=\"images/image-20221128171006334.png\" alt=\"image-20221128171006334 \"  width=600 /></div>\n",
    "\n",
    "\n",
    "\n",
    "#### Step 1: We initialize the Q-Table\n",
    "\n",
    "<div  align=\"center\"><img src=\"images/Q-learning-3.jpg\" alt=\"Q-learning \"  width=600 /></div>\n",
    "\n",
    "We need to initialize the Q-Table for each state-action pair. **Most of the time, we initialize with values of 0.**\n",
    "\n",
    "#### Step 2: Choose action using Epsilon Greedy Strategy\n",
    "\n",
    "<div  align=\"center\"><img src=\"images/Q-learning-4.jpg\" alt=\"Q-learning\"  width=600 /></div>\n",
    "\n",
    "Epsilon Greedy Strategy is a policy that handles the exploration/exploitation trade-off.\n",
    "\n",
    "The idea is that we define epsilon ɛ = 1.0:\n",
    "\n",
    "- *With probability 1 — ɛ* : we do **exploitation** (aka our agent selects the action with the highest state-action pair value).\n",
    "- With probability ɛ: **we do exploration** (trying random action).\n",
    "\n",
    "At the beginning of the training, **the probability of doing exploration will be huge since ɛ is very high, so most of the time, we'll explore.** But as the training goes on, and consequently our **Q-Table gets better and better in its estimations, we progressively reduce the epsilon value** since we will need less and less exploration and more exploitation.\n",
    "\n",
    "<div  align=\"center\"><img src=\"images/Q-learning-5.jpg\" alt=\"Q-learning \" width=400 /></div>\n",
    "\n",
    "#### Step 3: Perform action $A_t$, gets reward $R_{t+1} $and next state $S_{t+1}$\n",
    "\n",
    "<div  align=\"center\"><img src=\"images/Q-learning-6.jpg\" alt=\"Q-learning \" width=600 /></div>\n",
    "\n",
    "#### Step 4: Update $Q(S_t, A_t)$\n",
    "\n",
    "Remember that in TD Learning, we update our policy or value function (depending on the RL method we choose) **after one step of the interaction.**\n",
    "\n",
    "To produce our TD target, **we used the immediate reward R_{t+1}\\*R\\**t\\*+1 plus the discounted value of the next state best state-action pair** (we call that bootstrap).\n",
    "\n",
    "<div  align=\"center\"><img src=\"images/Q-learning-7.jpg\" alt=\"Q-learning \" width=400 /></div>\n",
    "\n",
    "Therefore, our $Q(S_t, A_t)$ **update formula goes like this:**\n",
    "\n",
    "<div  align=\"center\"><img src=\"images/Q-learning-8.jpg\" alt=\"Q-learning \" width=400 /></div>\n",
    "\n",
    "To get the **best next-state-action pair value**, we use a greedy policy to select the next best action.\n",
    "\n",
    "**Note that this is not an epsilon greedy policy, this will always take the action with the highest state-action value.**\n",
    "\n",
    "**It's why we say that this is an off-policy algorithm.**"
   ]
  },
  {
   "cell_type": "markdown",
   "metadata": {},
   "source": [
    "### **Off-policy vs On-policy**\n",
    "\n",
    "<div  align=\"center\"> <img src=\"images/off-on-4.jpg\" alt=\"Off-on policy \" style=\"zoom:67%;\"  width=900 /></div>\n",
    "\n",
    "\n",
    "\n"
   ]
  },
  {
   "cell_type": "markdown",
   "metadata": {},
   "source": [
    "## Q-Learning tutorials\n",
    "Two Q-Learning tutorials, one for us to do together and one for Assignment. The gym environment of the two tutorials is as follows:\n",
    "🎮 Environments: \n",
    "- [FrozenLake-v1](https://www.gymlibrary.dev/environments/toy_text/frozen_lake/)\n",
    "- [Taxi-v3](https://www.gymlibrary.dev/environments/toy_text/taxi/)\n"
   ]
  },
  {
   "cell_type": "markdown",
   "metadata": {},
   "source": [
    "### Q-Learning with FrozenLake-v1"
   ]
  },
  {
   "cell_type": "markdown",
   "metadata": {
    "id": "YA8eccSjzTkm"
   },
   "source": [
    "#### Install dependencies"
   ]
  },
  {
   "cell_type": "code",
   "execution_count": null,
   "metadata": {
    "id": "qy__wzWWq1Ip"
   },
   "outputs": [],
   "source": [
    "# %%capture\n",
    "! pip install gym==0.24\n",
    "! pip install pygame\n",
    "! pip install numpy\n",
    "! pip install imageio imageio_ffmpeg"
   ]
  },
  {
   "cell_type": "markdown",
   "metadata": {
    "id": "_PapFtBBzW3G"
   },
   "source": [
    "#### Import the packages"
   ]
  },
  {
   "cell_type": "code",
   "execution_count": 15,
   "metadata": {
    "colab": {
     "base_uri": "https://localhost:8080/"
    },
    "id": "PWkA0eXLq52V",
    "outputId": "a1a9e7d0-ad83-4fcf-9b2f-f72d7a168ec0"
   },
   "outputs": [],
   "source": [
    "import numpy as np\n",
    "import gym\n",
    "import random\n",
    "import imageio\n",
    "import tqdm\n",
    "import matplotlib\n",
    "import matplotlib.pyplot as plt"
   ]
  },
  {
   "cell_type": "markdown",
   "metadata": {
    "id": "868LWxur0OGI"
   },
   "source": [
    "### Create Frozen Lake  environment \n",
    "We're going to train our Q-Learning agent **to navigate from the starting state (S) to the goal state (G) by walking only on frozen tiles (F) and avoid holes (H)**.\n",
    "\n",
    "We can have two sizes of environment:\n",
    "- `map_name=\"4x4\"`: a 4x4 grid version\n",
    "- `map_name=\"8x8\"`: a 8x8 grid version\n",
    "\n",
    "\n",
    "The environment has two modes:\n",
    "- `is_slippery=False`: The agent always move in the intended direction due to the non-slippery nature of the frozen lake.\n",
    "- `is_slippery=True`: The agent may not always move in the intended direction due to the slippery nature of the frozen lake (stochastic).\n",
    "\n",
    "You can also custom your own grid using:\n",
    "\n",
    "```python\n",
    "desc=[\"SFFF\", \"FHFH\", \"FFFH\", \"HFFG\"]\n",
    "gym.make('FrozenLake-v1', desc=desc, is_slippery=True)\n",
    "```\n",
    "\n",
    "but we'll use the default environment for now."
   ]
  },
  {
   "cell_type": "code",
   "execution_count": 16,
   "metadata": {
    "id": "Ho0clcOHrBlm"
   },
   "outputs": [
    {
     "data": {
      "image/png": "[encoded data removed]",
      "text/plain": [
       "<Figure size 432x288 with 1 Axes>"
      ]
     },
     "metadata": {
      "needs_background": "light"
     },
     "output_type": "display_data"
    }
   ],
   "source": [
    "# Create the FrozenLake-v1 environment using 4x4 map and non-slippery version\n",
    "env = gym.make(\"FrozenLake-v1\",map_name=\"4x4\",is_slippery=False)\n",
    "img = env.render(mode='rgb_array')\n",
    "fig = plt.figure('show picture')\n",
    "\n",
    "\n",
    "# ax = fig.add_subplot(111)\n",
    "# ax.imshow(img)\n",
    "# ax.set_title(\"Taxi-v3\")#给图片加titile\n",
    "\n",
    "plt.imshow(img)\n",
    "plt.axis('off') # 不显示刻度\n",
    "# plt.title(\"Taxi-v3\")\n",
    "\n",
    "plt.show()"
   ]
  },
  {
   "cell_type": "markdown",
   "metadata": {
    "id": "jFwhmxg80WkH"
   },
   "source": [
    "#### Understanding the FrozenLake environment \n"
   ]
  },
  {
   "cell_type": "code",
   "execution_count": null,
   "metadata": {
    "colab": {
     "base_uri": "https://localhost:8080/"
    },
    "id": "rQtUaOEJrDVf",
    "outputId": "525f9f4e-ddb8-4e95-e059-2241fcee4c4a"
   },
   "outputs": [],
   "source": [
    "print(\"_____OBSERVATION SPACE_____ \\n\")\n",
    "print(\"Observation Space\", env.observation_space)\n",
    "print(\"Sample observation\", env.observation_space.sample()) # Get a random observation"
   ]
  },
  {
   "cell_type": "markdown",
   "metadata": {},
   "source": [
    "We see with `Observation Space Shape Discrete(16)` that the observation is a value representing the **agent’s current position as current_row * nrows + current_col (where both the row and col start at 0)**. \n",
    "\n",
    "For example, the goal position in the 4x4 map can be calculated as follows: 3 * 4 + 3 = 15. The number of possible observations is dependent on the size of the map. **For example, the 4x4 map has 16 possible observations.**\n",
    "\n",
    "\n",
    "For instance, at this state = 0"
   ]
  },
  {
   "cell_type": "code",
   "execution_count": null,
   "metadata": {
    "colab": {
     "base_uri": "https://localhost:8080/"
    },
    "id": "7fE_JTjGrF-B",
    "outputId": "184e69e2-67e9-4ba5-b906-49b1bef3fd3c"
   },
   "outputs": [],
   "source": [
    "print(\"\\n _____ACTION SPACE_____ \\n\")\n",
    "print(\"Action Space Shape\", env.action_space.n)\n",
    "print(\"Action Space Sample\", env.action_space.sample()) # Take a random action"
   ]
  },
  {
   "cell_type": "markdown",
   "metadata": {},
   "source": [
    "The action space (the set of possible actions the agent can take) is discrete with 4 actions available 🎮:\n",
    "- 0: GO LEFT\n",
    "- 1: GO DOWN\n",
    "- 2: GO RIGHT\n",
    "- 3: GO UP\n",
    "\n",
    "Reward function 💰:\n",
    "- Reach goal: +1\n",
    "- Reach hole: 0\n",
    "- Reach frozen: 0"
   ]
  },
  {
   "cell_type": "markdown",
   "metadata": {
    "id": "badxmLJg0i6Z"
   },
   "source": [
    "#### Create and Initialize the Q-table\n",
    "\n",
    "It's time to initialize our Q-table! To know how many rows (states) and columns (actions) to use, we need to know the action and observation space. OpenAI Gym provides us a way to do that: `env.action_space.n` and `env.observation_space.n`"
   ]
  },
  {
   "cell_type": "code",
   "execution_count": 17,
   "metadata": {
    "colab": {
     "base_uri": "https://localhost:8080/"
    },
    "id": "2m0z54AfrJVj",
    "outputId": "6a885a98-0498-4c45-8e85-957886ed312c"
   },
   "outputs": [
    {
     "name": "stdout",
     "output_type": "stream",
     "text": [
      "There are  16  possible states\n",
      "There are  4  possible actions\n"
     ]
    }
   ],
   "source": [
    "state_space = env.observation_space.n\n",
    "print(\"There are \", state_space, \" possible states\")\n",
    "\n",
    "action_space = env.action_space.n\n",
    "print(\"There are \", action_space, \" possible actions\")"
   ]
  },
  {
   "cell_type": "code",
   "execution_count": 18,
   "metadata": {
    "id": "rCddoOXM3UQH"
   },
   "outputs": [],
   "source": [
    "# Let's create our Qtable of size (state_space, action_space) and initialized each values at 0 using np.zeros\n",
    "def initialize_q_table(state_space, action_space):\n",
    "  Qtable = np.zeros((state_space, action_space))\n",
    "  return Qtable"
   ]
  },
  {
   "cell_type": "code",
   "execution_count": 19,
   "metadata": {
    "id": "9YfvrqRt3jdR"
   },
   "outputs": [],
   "source": [
    "Qtable_frozenlake = initialize_q_table(state_space, action_space)"
   ]
  },
  {
   "cell_type": "markdown",
   "metadata": {
    "id": "lFeeieaA0mQ_"
   },
   "source": [
    "#### Define the epsilon-greedy policy\n"
   ]
  },
  {
   "cell_type": "code",
   "execution_count": 20,
   "metadata": {
    "id": "Pe3nPqOQrYXi"
   },
   "outputs": [],
   "source": [
    "def epsilon_greedy_policy(Qtable, state, epsilon):\n",
    "  # Randomly generate a number between 0 and 1\n",
    "  random_int = random.uniform(0,1)\n",
    "  # if random_int > greater than epsilon --> exploitation\n",
    "  if random_int > epsilon:\n",
    "    # Take the action with the highest value given a state\n",
    "    # np.argmax can be useful here\n",
    "    action = np.argmax(Qtable[state])\n",
    "  # else --> exploration\n",
    "  else:\n",
    "    action = env.action_space.sample()\n",
    "  \n",
    "  return action"
   ]
  },
  {
   "cell_type": "markdown",
   "metadata": {
    "id": "AStP0Cwf0vjF"
   },
   "source": [
    "#### Define the hyperparameters\n",
    "The exploration related hyperparamters are some of the most important ones. \n",
    "\n",
    "- We need to make sure that our agent **explores enough the state space** in order to learn a good value approximation, in order to do that we need to have progressive decay of the epsilon.\n",
    "- If you decrease too fast epsilon (too high decay_rate), **you take the risk that your agent is stuck**, since your agent didn't explore enough the state space and hence can't solve the problem."
   ]
  },
  {
   "cell_type": "code",
   "execution_count": 21,
   "metadata": {
    "id": "Y1tWn0tycWZ1"
   },
   "outputs": [],
   "source": [
    "# Training parameters\n",
    "n_training_episodes = 10000  # Total training episodes\n",
    "learning_rate = 0.7          # Learning rate\n",
    "\n",
    "# Evaluation parameters\n",
    "n_eval_episodes = 100        # Total number of test episodes\n",
    "\n",
    "# Environment parameters\n",
    "env_id = \"FrozenLake-v1\"     # Name of the environment\n",
    "max_steps = 99               # Max steps per episode\n",
    "gamma = 0.95                 # Discounting rate\n",
    "eval_seed = []               # The evaluation seed of the environment\n",
    "\n",
    "# Exploration parameters\n",
    "max_epsilon = 1.0             # Exploration probability at start\n",
    "min_epsilon = 0.05            # Minimum exploration probability \n",
    "decay_rate = 0.0005            # Exponential decay rate for exploration prob"
   ]
  },
  {
   "cell_type": "markdown",
   "metadata": {
    "id": "bL4oWIJ800M6"
   },
   "source": [
    "#### Training the model"
   ]
  },
  {
   "cell_type": "code",
   "execution_count": 28,
   "metadata": {
    "id": "paOynXy3aoJW"
   },
   "outputs": [],
   "source": [
    "def train(n_training_episodes, min_epsilon, max_epsilon, decay_rate, env, max_steps, Qtable):\n",
    "  bar = tqdm.tqdm(total=n_training_episodes)\n",
    "  for episode in range(n_training_episodes):\n",
    "    # Reduce epsilon (because we need less and less exploration)\n",
    "    epsilon = min_epsilon + (max_epsilon - min_epsilon)*np.exp(-decay_rate*episode)\n",
    "    # Reset the environment\n",
    "    state = env.reset()\n",
    "    step = 0\n",
    "    done = False\n",
    "\n",
    "    # repeat\n",
    "    for step in range(max_steps):\n",
    "      # Choose the action At using epsilon greedy policy\n",
    "      action = epsilon_greedy_policy(Qtable, state, epsilon)\n",
    "\n",
    "      # Take action At and observe Rt+1 and St+1\n",
    "      # Take the action (a) and observe the outcome state(s') and reward (r)\n",
    "      new_state, reward, done, info = env.step(action)\n",
    "\n",
    "      # Update Q(s,a):= Q(s,a) + lr [R(s,a) + gamma * max Q(s',a') - Q(s,a)]\n",
    "      score = learning_rate * (reward + gamma * np.max(Qtable[new_state]) - Qtable[state][action]) \n",
    "      \n",
    "      if (score != 0):\n",
    "        Qtable[state][action] += score\n",
    "\n",
    "\n",
    "      # If done, finish the episode\n",
    "      if done:\n",
    "        break\n",
    "      \n",
    "      # Our state is the new state\n",
    "      state = new_state\n",
    "    bar.update()\n",
    "  return Qtable"
   ]
  },
  {
   "cell_type": "code",
   "execution_count": 29,
   "metadata": {
    "colab": {
     "base_uri": "https://localhost:8080/",
     "height": 49,
     "referenced_widgets": [
      "28e11fb654d24ef68a72d29ab062b926",
      "78f924df828046f5b093cf927260960a",
      "e402dfe3038444718c40ba487ee5a2fe",
      "7907716bab2e4ea3a86f0b80303c089a",
      "9921542e63864e0cab7b3a8780ec88a9",
      "45439de478d741698e095508be038474",
      "59a7711f82804a78b11aefc765e81362",
      "c9aa7491673046b1a6cab9f4ef1e1594",
      "edeeb0c041e74af48eceec05203cdc57",
      "362065e4131142c4872b59dab7430775",
      "b02a41ef6745420f989aba9c357a983f"
     ]
    },
    "id": "DPBxfjJdTCOH",
    "outputId": "1211b0d1-e57b-478c-f9c2-a6d85d9ed290"
   },
   "outputs": [
    {
     "name": "stderr",
     "output_type": "stream",
     "text": [
      "100%|██████████| 10000/10000 [00:02<00:00, 4759.46it/s]\n"
     ]
    }
   ],
   "source": [
    "Qtable_frozenlake = train(n_training_episodes, min_epsilon, max_epsilon, decay_rate, env, max_steps, Qtable_frozenlake)"
   ]
  },
  {
   "cell_type": "markdown",
   "metadata": {
    "id": "ZE71JB7b1BiI"
   },
   "source": [
    "#### Tranined Q-Learning table"
   ]
  },
  {
   "cell_type": "code",
   "execution_count": 30,
   "metadata": {
    "colab": {
     "base_uri": "https://localhost:8080/"
    },
    "id": "me3KBqV4rqd-",
    "outputId": "f086891c-9b04-479e-ad4f-9aa65289a714"
   },
   "outputs": [
    {
     "data": {
      "text/plain": [
       "array([[0.73509189, 0.77378094, 0.77378094, 0.73509189],\n",
       "       [0.73509189, 0.        , 0.81450625, 0.77378094],\n",
       "       [0.77378094, 0.857375  , 0.77378094, 0.81450625],\n",
       "       [0.81450625, 0.        , 0.77378094, 0.77378094],\n",
       "       [0.77378094, 0.81450625, 0.        , 0.73509189],\n",
       "       [0.        , 0.        , 0.        , 0.        ],\n",
       "       [0.        , 0.9025    , 0.        , 0.81450625],\n",
       "       [0.        , 0.        , 0.        , 0.        ],\n",
       "       [0.81450625, 0.        , 0.857375  , 0.77378094],\n",
       "       [0.81450625, 0.9025    , 0.9025    , 0.        ],\n",
       "       [0.857375  , 0.95      , 0.        , 0.857375  ],\n",
       "       [0.        , 0.        , 0.        , 0.        ],\n",
       "       [0.        , 0.        , 0.        , 0.        ],\n",
       "       [0.        , 0.9025    , 0.95      , 0.857375  ],\n",
       "       [0.9025    , 0.95      , 1.        , 0.9025    ],\n",
       "       [0.        , 0.        , 0.        , 0.        ]])"
      ]
     },
     "execution_count": 30,
     "metadata": {},
     "output_type": "execute_result"
    }
   ],
   "source": [
    "Qtable_frozenlake"
   ]
  },
  {
   "cell_type": "markdown",
   "metadata": {
    "id": "ttMwujJ31Lez"
   },
   "source": [
    "#### Model evaluation\n",
    "- Normally you should have mean reward of 1.0\n",
    "- It's relatively easy since the state space is really small (16). What you can try to do is [to replace with the slippery version](https://www.gymlibrary.ml/environments/toy_text/frozen_lake/)."
   ]
  },
  {
   "cell_type": "code",
   "execution_count": null,
   "metadata": {
    "id": "jNl0_JO2cbkm"
   },
   "outputs": [],
   "source": [
    "def evaluate_agent(env, max_steps, n_eval_episodes, Q, seed):\n",
    "  \"\"\"\n",
    "  Evaluate the agent for ``n_eval_episodes`` episodes and returns average reward and std of reward.\n",
    "  :param env: The evaluation environment\n",
    "  :param n_eval_episodes: Number of episode to evaluate the agent\n",
    "  :param Q: The Q-table\n",
    "  :param seed: The evaluation seed array (for taxi-v3)\n",
    "  \"\"\"\n",
    "  episode_rewards = []\n",
    "  for episode in range(n_eval_episodes):\n",
    "    if seed:\n",
    "      state = env.reset(seed=seed[episode])\n",
    "    else:\n",
    "      state = env.reset()\n",
    "    step = 0\n",
    "    done = False\n",
    "    total_rewards_ep = 0\n",
    "    \n",
    "    for step in range(max_steps):\n",
    "      # Take the action (index) that have the maximum expected future reward given that state\n",
    "      action = np.argmax(Q[state][:])\n",
    "      new_state, reward, done, info = env.step(action)\n",
    "      total_rewards_ep += reward\n",
    "        \n",
    "      if done:\n",
    "        break\n",
    "      state = new_state\n",
    "    episode_rewards.append(total_rewards_ep)\n",
    "  mean_reward = np.mean(episode_rewards)\n",
    "  std_reward = np.std(episode_rewards)\n",
    "\n",
    "  return mean_reward, std_reward"
   ]
  },
  {
   "cell_type": "code",
   "execution_count": null,
   "metadata": {
    "colab": {
     "base_uri": "https://localhost:8080/"
    },
    "id": "fAgB7s0HEFMm",
    "outputId": "0c006df2-2aad-46cb-f13f-0a893eeb00f0"
   },
   "outputs": [],
   "source": [
    "# Evaluate our Agent\n",
    "mean_reward, std_reward = evaluate_agent(env, max_steps, n_eval_episodes, Qtable_frozenlake, eval_seed)\n",
    "print(f\"Mean_reward={mean_reward:.2f} +/- {std_reward:.2f}\")"
   ]
  },
  {
   "cell_type": "markdown",
   "metadata": {
    "id": "PQoX2Iyo1OyC"
   },
   "source": [
    "### Visualizing the results"
   ]
  },
  {
   "cell_type": "code",
   "execution_count": null,
   "metadata": {
    "id": "-N7tJXVHr3VJ"
   },
   "outputs": [],
   "source": [
    "def record_video(env, Qtable, out_directory, fps=1):\n",
    "  images = []  \n",
    "  done = False\n",
    "  \n",
    "  state = env.reset(seed=random.randint(0,500))\n",
    "  #state = env.reset()\n",
    "  img = env.render(mode='rgb_array')\n",
    "  images.append(img)\n",
    "  while not done:\n",
    "    # Take the action (index) that have the maximum expected future reward given that state\n",
    "    action = np.argmax(Qtable[state][:])\n",
    "    state, reward, done, info = env.step(action) # We directly put next_state = state for recording logic\n",
    "    img = env.render(mode='rgb_array')\n",
    "    images.append(img)\n",
    "  imageio.mimsave(out_directory, [np.array(img) for i, img in enumerate(images)], fps=fps)"
   ]
  },
  {
   "cell_type": "markdown",
   "metadata": {
    "id": "e-JGGxzi3V8Y"
   },
   "source": [
    "Saving animated file as gif with 1 frame per second"
   ]
  },
  {
   "cell_type": "code",
   "execution_count": null,
   "metadata": {
    "id": "qLw1MCIhsuX8"
   },
   "outputs": [],
   "source": [
    "video_path=\"replay.gif\"\n",
    "video_fps=1"
   ]
  },
  {
   "cell_type": "code",
   "execution_count": null,
   "metadata": {
    "id": "lg3BXlFEsTCN"
   },
   "outputs": [],
   "source": [
    "record_video(env, Qtable_frozenlake, video_path, video_fps)"
   ]
  },
  {
   "cell_type": "code",
   "execution_count": null,
   "metadata": {
    "colab": {
     "base_uri": "https://localhost:8080/",
     "height": 273
    },
    "id": "dl7O7de11kbZ",
    "outputId": "28ec5ddc-c2f7-441c-cb9b-2c07f98fccba"
   },
   "outputs": [],
   "source": [
    "from IPython.display import Image\n",
    "Image('replay.gif')"
   ]
  },
  {
   "cell_type": "markdown",
   "metadata": {},
   "source": [
    "## LAB Assignment\n",
    "Please finish the **Exercise** and answer **Questions**.\n",
    "### Exercise ( Q-Learning with Taxi-v3 🚕) (100 Points)\n",
    "\n",
    "In this exercise, you should complete the Q-learning algorithm using the Taxi-v3 environment in the gym\n",
    "\n",
    "In Taxi-v3 🚕, there are four designated locations in the grid world indicated by R(ed), G(reen), Y(ellow), and B(lue). When the episode starts, the taxi starts off at a random square and the passenger is at a random location. The taxi drives to the passenger’s location, picks up the passenger, drives to the passenger’s destination (another one of the four specified locations), and then drops off the passenger. Once the passenger is dropped off, the episode ends.\n",
    "<div align=\"center\"><img src=\"images/image-20220805133926061.png\" alt=\"image-20220805133926061\" style=\"zoom:80%;\" /></div>"
   ]
  },
  {
   "cell_type": "markdown",
   "metadata": {
    "id": "_PapFtBBzW3G"
   },
   "source": [
    "### Step 0 Import the packages"
   ]
  },
  {
   "cell_type": "code",
   "execution_count": null,
   "metadata": {
    "colab": {
     "base_uri": "https://localhost:8080/"
    },
    "id": "PWkA0eXLq52V",
    "outputId": "a1a9e7d0-ad83-4fcf-9b2f-f72d7a168ec0"
   },
   "outputs": [],
   "source": [
    "import numpy as np\n",
    "import gym\n",
    "import random\n",
    "import imageio\n",
    "import tqdm"
   ]
  },
  {
   "cell_type": "markdown",
   "metadata": {},
   "source": [
    "###  Step 1 Create Taxi-v3 🚕  environment \n",
    "Using the API imported from gym"
   ]
  },
  {
   "cell_type": "code",
   "execution_count": null,
   "metadata": {},
   "outputs": [],
   "source": [
    "env = gym.make('Taxi-v3')\n",
    "img = env.render(mode='rgb_array')\n",
    "fig = plt.figure('show picture')\n",
    "\n",
    "\n",
    "# ax = fig.add_subplot(111)\n",
    "# ax.imshow(img)\n",
    "# ax.set_title(\"Taxi-v3\")#给图片加titile\n",
    "\n",
    "plt.imshow(img)\n",
    "plt.axis('off') # 不显示刻度\n",
    "# plt.title(\"Taxi-v3\")\n",
    "\n",
    "plt.show()"
   ]
  },
  {
   "cell_type": "markdown",
   "metadata": {
    "id": "gBOaXgtsrmtT"
   },
   "source": [
    "There are **500 discrete states since there are 25 taxi positions, 5 possible locations of the passenger** (including the case when the passenger is in the taxi), and **4 destination locations.**\n"
   ]
  },
  {
   "cell_type": "code",
   "execution_count": null,
   "metadata": {
    "colab": {
     "base_uri": "https://localhost:8080/"
    },
    "id": "_TPNaGSZrgqA",
    "outputId": "8aa9b617-8bdd-4817-ebc2-8f97d32e9634"
   },
   "outputs": [],
   "source": [
    "state_space = env.observation_space.n\n",
    "print(\"There are \", state_space, \" possible states\")"
   ]
  },
  {
   "cell_type": "code",
   "execution_count": null,
   "metadata": {
    "colab": {
     "base_uri": "https://localhost:8080/"
    },
    "id": "CdeeZuokrhit",
    "outputId": "eae26ab9-5f2f-40b6-f6ee-a6bc12d57c5c"
   },
   "outputs": [],
   "source": [
    "action_space = env.action_space.n\n",
    "print(\"There are \", action_space, \" possible actions\")"
   ]
  },
  {
   "cell_type": "markdown",
   "metadata": {
    "id": "R1r50Advrh5Q"
   },
   "source": [
    "The action space (the set of possible actions the agent can take) is discrete with **6 actions available 🎮**:\n",
    "- 0: move south\n",
    "- 1: move north\n",
    "- 2: move east\n",
    "- 3: move west\n",
    "- 4: pickup passenger\n",
    "- 5: drop off passenger\n",
    "\n",
    "Reward function 💰:\n",
    "- -1 per step unless other reward is triggered.\n",
    "- +20 delivering passenger.\n",
    "- -10 executing “pickup” and “drop-off” actions illegally."
   ]
  },
  {
   "cell_type": "markdown",
   "metadata": {},
   "source": [
    "###  Step 2  Create the Q-table and initialize it"
   ]
  },
  {
   "cell_type": "markdown",
   "metadata": {},
   "source": [
    "You can use the gym api to fetch the dimension of action space and state space"
   ]
  },
  {
   "cell_type": "code",
   "execution_count": null,
   "metadata": {},
   "outputs": [],
   "source": [
    "action_space = env.action_space.n\n",
    "state_space = env.observation_space.n\n",
    "\n",
    "# Please complete this initialization in this line\n",
    "Q_table = initialize_q_table(state_space, action_space)"
   ]
  },
  {
   "cell_type": "markdown",
   "metadata": {},
   "source": [
    "###  Step 3 Configure the hyperparameters"
   ]
  },
  {
   "cell_type": "code",
   "execution_count": null,
   "metadata": {},
   "outputs": [],
   "source": [
    "total_episodes = 100000        # 一共玩多少局游戏\n",
    "total_test_episodes = 100     # 测试中一共走几步\n",
    "max_steps = 99                # Max steps per episode 每一局游戏最多走几步\n",
    "\n",
    "learning_rate = 0.5           # Learning rate\n",
    "gamma = 0.95                 # Discounting rate\n",
    "\n",
    "# Exploration parameters\n",
    "epsilon = 1.0                 # Exploration rate\n",
    "max_epsilon = 1.0             # Exploration probability at start\n",
    "min_epsilon = 0.05           # Minimum exploration probability \n",
    "decay_rate = 0.008            # Exponential decay rate for exploration prob\n",
    "\n",
    "\n",
    "test_seed = [16,54,165,177,191,191,120,80,149,178,48,38,6,125,174,73,50,172,100,148,146,6,25,40,68,148,49,167,9,97,164,176,61,7,54,55,\n",
    " 161,131,184,51,170,12,120,113,95,126,51,98,36,135,54,82,45,95,89,59,95,124,9,113,58,85,51,134,121,169,105,21,30,11,50,65,12,43,82,145,152,97,106,55,31,85,38,\n",
    " 112,102,168,123,97,21,83,158,26,80,63,5,81,32,11,28,148] # Evaluation seed, this ensures that all classmates agents are trained on the same taxi starting position\n",
    "    "
   ]
  },
  {
   "cell_type": "markdown",
   "metadata": {},
   "source": [
    "###  Step 4 Q Learning algorithm"
   ]
  },
  {
   "cell_type": "markdown",
   "metadata": {},
   "source": [
    "Note: The formula of Q table update(Bellman equation)\n",
    "    ![Bellman equation](https://raw.githubusercontent.com/hanruihua/NoteBook/master/AI-Note/equation.png)"
   ]
  },
  {
   "cell_type": "code",
   "execution_count": null,
   "metadata": {},
   "outputs": [],
   "source": [
    "bar = tqdm.tqdm(total=total_episodes)\n",
    "sample_rewards = []\n",
    "\n",
    "for episode in range(total_episodes):\n",
    "    state = env.reset()\n",
    "    step = 0\n",
    "    done = False\n",
    "    sample_reward = 0 \n",
    "    while True:\n",
    "        #TODO: Please complete this action selection in this line via the maximum value\n",
    "        action = epsilon_greedy_policy(Q_table, state, epsilon)\n",
    "        \n",
    "        # TODO:fetech the new state and reward by gym API\n",
    "        new_state, reward, done, info = env.step(action)\n",
    "        # Calculate the reward of this episode\n",
    "        sample_reward += reward\n",
    "    \n",
    "        \n",
    "        # TODO: Update the Q table \n",
    "        # Q(s,a):= Q(s,a) + lr [R(s,a) + gamma * max Q(s',a') - Q(s,a)]\n",
    "        Q_table[state, action] = Q_table[state, action] + learning_rate * (reward + gamma * np.max(Q_table[new_state]) - Q_table[state, action]) \n",
    "        \n",
    "        # Update the state\n",
    "        state = new_state\n",
    "        \n",
    "        #store the episode reward\n",
    "        if done == True:\n",
    "            sample_rewards.append(sample_reward)\n",
    "            break\n",
    "        \n",
    "    # Reduced exploration probability (due to decreasing uncertainty)\n",
    "    epsilon = min_epsilon + (max_epsilon - min_epsilon)*np.exp(-decay_rate*episode)         \n",
    "    # print the average reward over 1000 episodes\n",
    "    if episode%1000 == 0:\n",
    "        mean_reward = np.mean(sample_rewards)\n",
    "        sample_rewards = []\n",
    "        #print(str(episode)+\": average reward:\" + str(mean_reward))\n",
    "        bar.set_description(str(episode)+\": average reward:\" + str(mean_reward))\n",
    "    bar.update()"
   ]
  },
  {
   "cell_type": "markdown",
   "metadata": {},
   "source": [
    "###  Step 5 Model evaluation"
   ]
  },
  {
   "cell_type": "code",
   "execution_count": null,
   "metadata": {},
   "outputs": [],
   "source": [
    "fps=5\n",
    "bar = tqdm.tqdm(total=total_test_episodes)\n",
    "env.reset()\n",
    "rewards=[]\n",
    "images = [] \n",
    "for episode in range(total_test_episodes):\n",
    "    state = env.reset(seed=test_seed[episode])\n",
    "    step = 0\n",
    "    done =False\n",
    "    total_rewards = 0\n",
    "\n",
    "    for step in range(max_steps):\n",
    "        img = env.render(mode='rgb_array')\n",
    "        images.append(img)\n",
    "        #TODO:action selection\n",
    "        action = np.argmax(Q_table[state][:])\n",
    "        #TODO:fetech the new state and reward by gym API\n",
    "        new_state, reward, done, info = env.step(action)\n",
    "        \n",
    "        total_rewards += reward\n",
    "        if done:\n",
    "            rewards.append(total_rewards)\n",
    "            break\n",
    "        \n",
    "        state = new_state\n",
    "     \n",
    "env.close()\n",
    "mean_reward = np.mean(rewards)\n",
    "std_reward = np.std(rewards)\n",
    "print(f\"Mean_reward={mean_reward:.2f} +/- {std_reward:.2f}\")\n",
    "imageio.mimsave('taxi-v3.gif', [np.array(img) for i, img in enumerate(images)], fps=fps)\n"
   ]
  },
  {
   "cell_type": "markdown",
   "metadata": {
    "id": "PQoX2Iyo1OyC"
   },
   "source": [
    "###  Step 6 Visualizing the results"
   ]
  },
  {
   "cell_type": "code",
   "execution_count": null,
   "metadata": {},
   "outputs": [],
   "source": [
    "video_path=\"taxi-v3.gif\"\n",
    "video_fps=5\n",
    "record_video(env, Q_table, video_path, video_fps)\n",
    "from IPython.display import Image\n",
    "Image('taxi-v3.gif')"
   ]
  }
 ],
 "metadata": {
  "colab": {
   "provenance": []
  },
  "kernelspec": {
   "display_name": "base",
   "language": "python",
   "name": "python3"
  },
  "language_info": {
   "codemirror_mode": {
    "name": "ipython",
    "version": 3
   },
   "file_extension": ".py",
   "mimetype": "text/x-python",
   "name": "python",
   "nbconvert_exporter": "python",
   "pygments_lexer": "ipython3",
   "version": "3.9.12 (main, Apr  5 2022, 01:52:34) \n[Clang 12.0.0 ]"
  },
  "toc": {
   "base_numbering": 1,
   "nav_menu": {},
   "number_sections": true,
   "sideBar": true,
   "skip_h1_title": true,
   "title_cell": "Table of Contents",
   "title_sidebar": "Contents",
   "toc_cell": true,
   "toc_position": {},
   "toc_section_display": true,
   "toc_window_display": false
  },
  "vscode": {
   "interpreter": {
    "hash": "e7cb1b9ae4d417fedf7f40a8eec98f7cfbd359e096bd857395a915f4609834ce"
   }
  },
  "widgets": {
   "application/vnd.jupyter.widget-state+json": {
    "28e11fb654d24ef68a72d29ab062b926": {
     "model_module": "@jupyter-widgets/controls",
     "model_module_version": "1.5.0",
     "model_name": "HBoxModel",
     "state": {
      "_dom_classes": [],
      "_model_module": "@jupyter-widgets/controls",
      "_model_module_version": "1.5.0",
      "_model_name": "HBoxModel",
      "_view_count": null,
      "_view_module": "@jupyter-widgets/controls",
      "_view_module_version": "1.5.0",
      "_view_name": "HBoxView",
      "box_style": "",
      "children": [
       "IPY_MODEL_78f924df828046f5b093cf927260960a",
       "IPY_MODEL_e402dfe3038444718c40ba487ee5a2fe",
       "IPY_MODEL_7907716bab2e4ea3a86f0b80303c089a"
      ],
      "layout": "IPY_MODEL_9921542e63864e0cab7b3a8780ec88a9"
     }
    },
    "362065e4131142c4872b59dab7430775": {
     "model_module": "@jupyter-widgets/base",
     "model_module_version": "1.2.0",
     "model_name": "LayoutModel",
     "state": {
      "_model_module": "@jupyter-widgets/base",
      "_model_module_version": "1.2.0",
      "_model_name": "LayoutModel",
      "_view_count": null,
      "_view_module": "@jupyter-widgets/base",
      "_view_module_version": "1.2.0",
      "_view_name": "LayoutView",
      "align_content": null,
      "align_items": null,
      "align_self": null,
      "border": null,
      "bottom": null,
      "display": null,
      "flex": null,
      "flex_flow": null,
      "grid_area": null,
      "grid_auto_columns": null,
      "grid_auto_flow": null,
      "grid_auto_rows": null,
      "grid_column": null,
      "grid_gap": null,
      "grid_row": null,
      "grid_template_areas": null,
      "grid_template_columns": null,
      "grid_template_rows": null,
      "height": null,
      "justify_content": null,
      "justify_items": null,
      "left": null,
      "margin": null,
      "max_height": null,
      "max_width": null,
      "min_height": null,
      "min_width": null,
      "object_fit": null,
      "object_position": null,
      "order": null,
      "overflow": null,
      "overflow_x": null,
      "overflow_y": null,
      "padding": null,
      "right": null,
      "top": null,
      "visibility": null,
      "width": null
     }
    },
    "45439de478d741698e095508be038474": {
     "model_module": "@jupyter-widgets/base",
     "model_module_version": "1.2.0",
     "model_name": "LayoutModel",
     "state": {
      "_model_module": "@jupyter-widgets/base",
      "_model_module_version": "1.2.0",
      "_model_name": "LayoutModel",
      "_view_count": null,
      "_view_module": "@jupyter-widgets/base",
      "_view_module_version": "1.2.0",
      "_view_name": "LayoutView",
      "align_content": null,
      "align_items": null,
      "align_self": null,
      "border": null,
      "bottom": null,
      "display": null,
      "flex": null,
      "flex_flow": null,
      "grid_area": null,
      "grid_auto_columns": null,
      "grid_auto_flow": null,
      "grid_auto_rows": null,
      "grid_column": null,
      "grid_gap": null,
      "grid_row": null,
      "grid_template_areas": null,
      "grid_template_columns": null,
      "grid_template_rows": null,
      "height": null,
      "justify_content": null,
      "justify_items": null,
      "left": null,
      "margin": null,
      "max_height": null,
      "max_width": null,
      "min_height": null,
      "min_width": null,
      "object_fit": null,
      "object_position": null,
      "order": null,
      "overflow": null,
      "overflow_x": null,
      "overflow_y": null,
      "padding": null,
      "right": null,
      "top": null,
      "visibility": null,
      "width": null
     }
    },
    "59a7711f82804a78b11aefc765e81362": {
     "model_module": "@jupyter-widgets/controls",
     "model_module_version": "1.5.0",
     "model_name": "DescriptionStyleModel",
     "state": {
      "_model_module": "@jupyter-widgets/controls",
      "_model_module_version": "1.5.0",
      "_model_name": "DescriptionStyleModel",
      "_view_count": null,
      "_view_module": "@jupyter-widgets/base",
      "_view_module_version": "1.2.0",
      "_view_name": "StyleView",
      "description_width": ""
     }
    },
    "78f924df828046f5b093cf927260960a": {
     "model_module": "@jupyter-widgets/controls",
     "model_module_version": "1.5.0",
     "model_name": "HTMLModel",
     "state": {
      "_dom_classes": [],
      "_model_module": "@jupyter-widgets/controls",
      "_model_module_version": "1.5.0",
      "_model_name": "HTMLModel",
      "_view_count": null,
      "_view_module": "@jupyter-widgets/controls",
      "_view_module_version": "1.5.0",
      "_view_name": "HTMLView",
      "description": "",
      "description_tooltip": null,
      "layout": "IPY_MODEL_45439de478d741698e095508be038474",
      "placeholder": "​",
      "style": "IPY_MODEL_59a7711f82804a78b11aefc765e81362",
      "value": "100%"
     }
    },
    "7907716bab2e4ea3a86f0b80303c089a": {
     "model_module": "@jupyter-widgets/controls",
     "model_module_version": "1.5.0",
     "model_name": "HTMLModel",
     "state": {
      "_dom_classes": [],
      "_model_module": "@jupyter-widgets/controls",
      "_model_module_version": "1.5.0",
      "_model_name": "HTMLModel",
      "_view_count": null,
      "_view_module": "@jupyter-widgets/controls",
      "_view_module_version": "1.5.0",
      "_view_name": "HTMLView",
      "description": "",
      "description_tooltip": null,
      "layout": "IPY_MODEL_362065e4131142c4872b59dab7430775",
      "placeholder": "​",
      "style": "IPY_MODEL_b02a41ef6745420f989aba9c357a983f",
      "value": " 10000/10000 [00:03&lt;00:00, 4132.18it/s]"
     }
    },
    "9921542e63864e0cab7b3a8780ec88a9": {
     "model_module": "@jupyter-widgets/base",
     "model_module_version": "1.2.0",
     "model_name": "LayoutModel",
     "state": {
      "_model_module": "@jupyter-widgets/base",
      "_model_module_version": "1.2.0",
      "_model_name": "LayoutModel",
      "_view_count": null,
      "_view_module": "@jupyter-widgets/base",
      "_view_module_version": "1.2.0",
      "_view_name": "LayoutView",
      "align_content": null,
      "align_items": null,
      "align_self": null,
      "border": null,
      "bottom": null,
      "display": null,
      "flex": null,
      "flex_flow": null,
      "grid_area": null,
      "grid_auto_columns": null,
      "grid_auto_flow": null,
      "grid_auto_rows": null,
      "grid_column": null,
      "grid_gap": null,
      "grid_row": null,
      "grid_template_areas": null,
      "grid_template_columns": null,
      "grid_template_rows": null,
      "height": null,
      "justify_content": null,
      "justify_items": null,
      "left": null,
      "margin": null,
      "max_height": null,
      "max_width": null,
      "min_height": null,
      "min_width": null,
      "object_fit": null,
      "object_position": null,
      "order": null,
      "overflow": null,
      "overflow_x": null,
      "overflow_y": null,
      "padding": null,
      "right": null,
      "top": null,
      "visibility": null,
      "width": null
     }
    },
    "b02a41ef6745420f989aba9c357a983f": {
     "model_module": "@jupyter-widgets/controls",
     "model_module_version": "1.5.0",
     "model_name": "DescriptionStyleModel",
     "state": {
      "_model_module": "@jupyter-widgets/controls",
      "_model_module_version": "1.5.0",
      "_model_name": "DescriptionStyleModel",
      "_view_count": null,
      "_view_module": "@jupyter-widgets/base",
      "_view_module_version": "1.2.0",
      "_view_name": "StyleView",
      "description_width": ""
     }
    },
    "c9aa7491673046b1a6cab9f4ef1e1594": {
     "model_module": "@jupyter-widgets/base",
     "model_module_version": "1.2.0",
     "model_name": "LayoutModel",
     "state": {
      "_model_module": "@jupyter-widgets/base",
      "_model_module_version": "1.2.0",
      "_model_name": "LayoutModel",
      "_view_count": null,
      "_view_module": "@jupyter-widgets/base",
      "_view_module_version": "1.2.0",
      "_view_name": "LayoutView",
      "align_content": null,
      "align_items": null,
      "align_self": null,
      "border": null,
      "bottom": null,
      "display": null,
      "flex": null,
      "flex_flow": null,
      "grid_area": null,
      "grid_auto_columns": null,
      "grid_auto_flow": null,
      "grid_auto_rows": null,
      "grid_column": null,
      "grid_gap": null,
      "grid_row": null,
      "grid_template_areas": null,
      "grid_template_columns": null,
      "grid_template_rows": null,
      "height": null,
      "justify_content": null,
      "justify_items": null,
      "left": null,
      "margin": null,
      "max_height": null,
      "max_width": null,
      "min_height": null,
      "min_width": null,
      "object_fit": null,
      "object_position": null,
      "order": null,
      "overflow": null,
      "overflow_x": null,
      "overflow_y": null,
      "padding": null,
      "right": null,
      "top": null,
      "visibility": null,
      "width": null
     }
    },
    "e402dfe3038444718c40ba487ee5a2fe": {
     "model_module": "@jupyter-widgets/controls",
     "model_module_version": "1.5.0",
     "model_name": "FloatProgressModel",
     "state": {
      "_dom_classes": [],
      "_model_module": "@jupyter-widgets/controls",
      "_model_module_version": "1.5.0",
      "_model_name": "FloatProgressModel",
      "_view_count": null,
      "_view_module": "@jupyter-widgets/controls",
      "_view_module_version": "1.5.0",
      "_view_name": "ProgressView",
      "bar_style": "success",
      "description": "",
      "description_tooltip": null,
      "layout": "IPY_MODEL_c9aa7491673046b1a6cab9f4ef1e1594",
      "max": 10000,
      "min": 0,
      "orientation": "horizontal",
      "style": "IPY_MODEL_edeeb0c041e74af48eceec05203cdc57",
      "value": 10000
     }
    },
    "edeeb0c041e74af48eceec05203cdc57": {
     "model_module": "@jupyter-widgets/controls",
     "model_module_version": "1.5.0",
     "model_name": "ProgressStyleModel",
     "state": {
      "_model_module": "@jupyter-widgets/controls",
      "_model_module_version": "1.5.0",
      "_model_name": "ProgressStyleModel",
      "_view_count": null,
      "_view_module": "@jupyter-widgets/base",
      "_view_module_version": "1.2.0",
      "_view_name": "StyleView",
      "bar_color": null,
      "description_width": ""
     }
    }
   }
  }
 },
 "nbformat": 4,
 "nbformat_minor": 1
}
