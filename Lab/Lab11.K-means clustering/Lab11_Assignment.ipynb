{
 "cells": [
  {
   "cell_type": "markdown",
   "metadata": {},
   "source": [
    "## LAB Assignment\n",
    "Please finish the **Exercise** and answer **Questions**.\n",
    "### Exercise \n",
    "In this lab, we will write a program to segment different objects in a video using *K-means* clustering. There are several steps:\n",
    "\n",
    "-  1.Load video & extract frames\n",
    "-  2.Implement *K-means* clustering\n",
    "-  3.Write back to video\n"
   ]
  },
  {
   "cell_type": "markdown",
   "metadata": {},
   "source": [
    "#### implement K-means\n",
    "In this lab, you need to implement K-means, the rough procedure is:\n",
    "\n",
    "1. **initialize centroids** of different classes\n",
    "\n",
    "   In the simplest case, randomly choose centroids in original data\n",
    "\n",
    "2. **calculate distances** between samples (pixels) and centroids\n",
    "\n",
    "   Since one sample (pixel) has 3 channels, you can calculate square sum of differences in each channel between it and centroids.\n",
    "   $$\n",
    "   dist(S,C) = \\sum_{i=1}^3(C_i-S_i)^2 \\\\\n",
    "   \\left\\{\n",
    "   \\begin{aligned}\n",
    "   &dist(S,C): \\text{distance between a sample S and a centroid C}\\\\\n",
    "   &C: \\text{a centroid}\\\\\n",
    "   &S: \\text{a sample}\\\\\n",
    "   &S_i: \\text{the } i^{th} \\text{ channel's value of S}\\\\\n",
    "   &C_i: \\text{the } i^{th} \\text{ channel's value of C}\n",
    "   \\end{aligned}\n",
    "   \\right.\n",
    "   $$\n",
    "   \n",
    "3. **classify** every samples\n",
    "\n",
    "   A sample is belonging to the class whose centroid is closest to it among all centroids.\n",
    "   $$\n",
    "   cls(S) = argmin(\\sum_{i=1}^3(C_i^k-S_i)^2), k=1,2,...,K\\\\\n",
    "   \\left\\{\n",
    "   \\begin{aligned}\n",
    "   &cls(S): \\text{class of a sample S}\\\\\n",
    "   &K: \\text{number of classes}\\\\\n",
    "   &C^k: \\text{centroid of } k^{th} \\text{ class}\\\\\n",
    "   \\end{aligned}\n",
    "   \\right.\n",
    "   $$\n",
    "\n",
    "4. **update centroid**\n",
    "\n",
    "   You can use mean of all samples in the same class to calculate new centroid.\n",
    "   $$\n",
    "   C^k_i =\\frac{1}{n^k}\\sum^{n^k}_{n=1}S^k_{in},\\ \\  i=1,2,3\\\\\n",
    "   \\left\\{\n",
    "   \\begin{aligned}\n",
    "   &C^k_i: \\text{the } i^{th} \\text{channel's value of a centroid belonging to the } k^{th} \\text{class} \\\\\n",
    "   &n^k: \\text{the number of samples in the }  k^{th} \\text{class}\\\\\n",
    "   &S^k_{in}: \\text{the } i^{th} \\text{channel's value of a sample which is in the } k^{th} \\text{class}\n",
    "   \\end{aligned}\n",
    "   \\right.\n",
    "   $$\n",
    "   \n",
    "5. loop until classification result doesn't change\n",
    "\n",
    "\n",
    "\n",
    "In addition, you may find there is code like this:\n",
    "\n",
    "```python\n",
    "while ret:\n",
    "    frame = np.float32(frame)\n",
    "    h, w, c = frame.shape\n",
    "    ...\n",
    "```\n",
    "\n",
    "Since if you don't converse the `dtype`, K-means hardly converges which means it will stuck into dead loop easily.\n",
    "\n",
    "\n",
    "\n",
    "After you finish K-means, you will find the written video is hard to watch because **color** between adjacent frames **changes almost all the time**. Here, I want you to find a way to alleviate the situation yourself.\n",
    "\n",
    "**It isn't compulsory**, you can try if you want.\n",
    "\n",
    "\n",
    "\n",
    "\n"
   ]
  },
  {
   "cell_type": "markdown",
   "metadata": {},
   "source": [
    "#### Import some libraries"
   ]
  },
  {
   "cell_type": "code",
   "execution_count": 1,
   "metadata": {},
   "outputs": [],
   "source": [
    "import numpy as np\n",
    "import cv2\n",
    "import tqdm\n",
    "import os\n",
    "import sys\n",
    "# color of different clusters\n",
    "GBR = [[0, 0, 255],\n",
    "       [0, 128, 255],\n",
    "       [255, 0, 0],\n",
    "       [128, 0, 128],\n",
    "       [255, 0, 255]]\n",
    "\n",
    "# path configuration\n",
    "project_root = os.path.abspath('.')\n",
    "input_path = os.path.abspath('.')\n",
    "output_path = os.path.join(os.path.abspath('.'), 'output')\n",
    "if not os.path.exists(output_path):\n",
    "    os.makedirs(output_path)\n",
    "    \n",
    "    \n",
    "def kmeans(data: np.ndarray, n_cl: int):\n",
    "    \"\"\"\n",
    "        K-means\n",
    "\n",
    "    :param data:    original data\n",
    "    :param n_cl:    number of classes\n",
    "    :param seeds:   seeds\n",
    "    :return:        new labels and new seeds\n",
    "    \"\"\"\n",
    "    n_samples, channel = data.shape\n",
    "    \n",
    "    # TODO: firstly you should init centroids by a certain strategy\n",
    "    args = np.random.choice(range(0, n_samples), n_cl, replace = False)\n",
    "    centers = data[args]\n",
    "    \n",
    "    old_labels = np.zeros((n_samples,))\n",
    "    while True:\n",
    "        # TODO: calc distance between samples and centroids\n",
    "        distance = np.linalg.norm(data[:, np.newaxis, :] - centers[np.newaxis, :, :], axis = 2)\n",
    "            \n",
    "        # TODO: classify samples\n",
    "        new_labels = np.argmin(distance, axis=1)\n",
    "\n",
    "        # TODO: update centroids\n",
    "        for i in range(0, n_cl):\n",
    "            centers[i] = np.mean(data[new_labels == i])\n",
    "            \n",
    "        \n",
    "        if np.all(new_labels == old_labels):            \n",
    "            break\n",
    "        \n",
    "        old_labels = new_labels\n",
    "        \n",
    "\n",
    "    return old_labels"
   ]
  },
  {
   "cell_type": "markdown",
   "metadata": {},
   "source": [
    "#### Load video and detect\n",
    "We use `opencv` to read a video.\n",
    "<font color=red>Pay attention</font> that data type of `frame` is `uint8`, not `int`; In this lab, frame has 3 channels.\n",
    "If you don't change `dtype` of frame into `unit8`, video you write will look strange which you can have a try."
   ]
  },
  {
   "cell_type": "code",
   "execution_count": 2,
   "metadata": {},
   "outputs": [
    {
     "name": "stdout",
     "output_type": "stream",
     "text": [
      "Begin clustering with 5 classes:\n"
     ]
    },
    {
     "name": "stderr",
     "output_type": "stream",
     "text": [
      "100%|██████████| 35/35 [06:21<00:00, 10.91s/it]\n"
     ]
    }
   ],
   "source": [
    "def detect(video, n_cl=2):\n",
    "    # load video, get number of frames and get shape of frame\n",
    "    cap = cv2.VideoCapture(video)\n",
    "    fps = int(cap.get(cv2.CAP_PROP_FRAME_COUNT))\n",
    "    size = (int(cap.get(cv2.CAP_PROP_FRAME_WIDTH)),\n",
    "            int(cap.get(cv2.CAP_PROP_FRAME_HEIGHT)))\n",
    "\n",
    "    # instantiate a video writer\n",
    "    video_writer = cv2.VideoWriter(\n",
    "        os.path.join(output_path, \"result_with_%dclz.mp4\" % n_cl),\n",
    "        cv2.VideoWriter_fourcc(*'mp4v'),\n",
    "        (fps / 10),\n",
    "        size,\n",
    "        isColor=True\n",
    "    )\n",
    "\n",
    "    # initialize frame and seeds\n",
    "    ret, frame = cap.read()\n",
    " \n",
    "\n",
    "    print(\"Begin clustering with %d classes:\" % n_cl)\n",
    "    bar = tqdm.tqdm(total=fps)  # progress bar\n",
    "    while ret:\n",
    "        frame = np.float32(frame)\n",
    "        h, w, c = frame.shape\n",
    "\n",
    "        # k-means\n",
    "        data = frame.reshape((h * w, c))\n",
    "        labels = kmeans(data, n_cl=n_cl)\n",
    "\n",
    "        # give different cluster different colors\n",
    "        new_frame = np.zeros((h * w, c))\n",
    "        # TODO: dye pixels with colors\n",
    "        for i in range(h*w):\n",
    "            new_frame[i] = GBR[labels[i]]\n",
    "            \n",
    "        new_frame = new_frame.reshape((h, w, c)).astype(\"uint8\")\n",
    "        video_writer.write(new_frame)\n",
    "\n",
    "        ret, frame = cap.read()\n",
    "        bar.update()\n",
    "\n",
    "    # release resources\n",
    "    video_writer.release()\n",
    "    cap.release()\n",
    "    cv2.destroyAllWindows()\n",
    "\n",
    "\n",
    "video_sample = os.path.join(input_path, \"road_video.MOV\")\n",
    "detect(video_sample, n_cl=5)"
   ]
  },
  {
   "cell_type": "markdown",
   "metadata": {},
   "source": [
    "#### Sample Result\n",
    "<div  align=\"center\"> <img src=\"images/image-20220804142902993.png\"  alt=\"image-20220804142902993\" width=600 align=center /></div>\n",
    "\n",
    "<div  align=\"center\"> <img src=\"images/image-20220804143125976.png\"   width=600 align=center /></div>"
   ]
  },
  {
   "cell_type": "markdown",
   "metadata": {},
   "source": [
    "### Questions\n",
    "\n",
    "1. What are the strengths of K-means; when does it perform well?\n",
    "2. What are the weaknesses of K-means; when does it perform poorly?\n",
    "3. What makes K-means a good candidate for the clustering problem, if you have enough knowledge about the data?"
   ]
  },
  {
   "attachments": {},
   "cell_type": "markdown",
   "metadata": {},
   "source": [
    "1. Kmeans 是无监督学习，原理简单容易实现。高效可伸缩，计算复杂度接近于线性（N是数据量，K是聚类总数，t是迭代轮数）。收敛速度快，原理相对通俗易懂，可解释性强。如果提前过滤掉噪声值可以有助于提升效果。合理选择 K 值也可能会得到更好的结果。\n",
    "2. 受初始值和异常点影响，聚类结果可能不是全局最优而是局部最优。K是超参数，一般需要按经验选择，样本点只能划分到单一的类中。\n",
    "3. 任务是无监督，且已知数据集中各个类别是近乎凸的。"
   ]
  }
 ],
 "metadata": {
  "kernelspec": {
   "display_name": "Python 3.9.12 ('base')",
   "language": "python",
   "name": "python3"
  },
  "language_info": {
   "codemirror_mode": {
    "name": "ipython",
    "version": 3
   },
   "file_extension": ".py",
   "mimetype": "text/x-python",
   "name": "python",
   "nbconvert_exporter": "python",
   "pygments_lexer": "ipython3",
   "version": "3.9.12"
  },
  "orig_nbformat": 4,
  "vscode": {
   "interpreter": {
    "hash": "e7cb1b9ae4d417fedf7f40a8eec98f7cfbd359e096bd857395a915f4609834ce"
   }
  }
 },
 "nbformat": 4,
 "nbformat_minor": 2
}
