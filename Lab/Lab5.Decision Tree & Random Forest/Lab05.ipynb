{
 "cells": [
  {
   "cell_type": "markdown",
   "metadata": {},
   "source": [
    "# 12012727 王铎磊"
   ]
  },
  {
   "cell_type": "markdown",
   "id": "c380438e",
   "metadata": {},
   "source": [
    "## LAB Assignment  \n",
    "This lab introduces classical machine learning algorithms, decision trees (DTs) and their ensemble learning (e.g., Random Forests). Decision trees are important non-parameter learning methods. Although DTs are simple and limited, they still can achieve excellent performance using ensemble learning schemes.\n",
    "\n",
    "For this lab assignment, we'll use the algorithms we've learned today to fit the model and evaluate the model’s prediction performance. The scikit-learn package will be used to save your time.\n",
    "\n",
    "\n",
    "### Decision tree\n",
    "- <font size=4>Step 1. load iris dataset </font>\n",
    "\n",
    "Datasets: First, we load the scikit-learn iris toy dataset ."
   ]
  },
  {
   "cell_type": "code",
   "execution_count": 1,
   "id": "f4c54139",
   "metadata": {},
   "outputs": [],
   "source": [
    "import matplotlib.pyplot as plt\n",
    "import numpy as np\n",
    "from sklearn import datasets\n",
    "\n",
    "iris = datasets.load_iris()"
   ]
  },
  {
   "cell_type": "markdown",
   "id": "3cae61bd",
   "metadata": {},
   "source": [
    "- <font size=4> Step 2. Define the features and the target </font>"
   ]
  },
  {
   "cell_type": "code",
   "execution_count": 2,
   "id": "b7821f8f",
   "metadata": {},
   "outputs": [],
   "source": [
    "X = iris.data\n",
    "y = iris.target"
   ]
  },
  {
   "cell_type": "markdown",
   "id": "c1f214de",
   "metadata": {},
   "source": [
    "- <font size=4> Step 3. Visualization </font>\n",
    "  \n",
    "    We need to use proper visualization methods to have an intuitive understanding.\n",
    "\n",
    "    For visualization, only the last 2 attributes are used.\n"
   ]
  },
  {
   "cell_type": "code",
   "execution_count": 3,
   "id": "d55e229e",
   "metadata": {},
   "outputs": [
    {
     "data": {
      "image/png": "[encoded data removed]",
      "text/plain": [
       "<Figure size 432x288 with 1 Axes>"
      ]
     },
     "metadata": {
      "needs_background": "light"
     },
     "output_type": "display_data"
    }
   ],
   "source": [
    "plt.scatter(X[y==0, 2], X[y==0, 3])\n",
    "plt.scatter(X[y==1, 2], X[y==1, 3])\n",
    "plt.scatter(X[y==2, 2], X[y==2, 3])\n",
    "plt.show()"
   ]
  },
  {
   "cell_type": "markdown",
   "id": "323138bd",
   "metadata": {},
   "source": [
    "- <font size=4> Step 4. Preprocessing data </font>\n",
    "Please check whether the data needs to be preprocessed"
   ]
  },
  {
   "cell_type": "markdown",
   "id": "dd936db9",
   "metadata": {},
   "source": [
    "数据集中没有缺失数据，而且每一个 Feature 都是连续的数值型数据，因此不需要额外的数据处理."
   ]
  },
  {
   "cell_type": "markdown",
   "id": "069a4331",
   "metadata": {},
   "source": [
    "- <font size=4> Step 5. Split the dataset into train and test sets </font>\n",
    "  \n",
    " Now we divide the whole dataset into a training set and a test set using the the scikit-learn model_selection module."
   ]
  },
  {
   "cell_type": "code",
   "execution_count": 4,
   "id": "917b0ce2",
   "metadata": {},
   "outputs": [],
   "source": [
    "########### Write Your Code Here ###########\n",
    "from sklearn.model_selection import train_test_split\n",
    "\n",
    "X_train, X_test, y_train, y_test = train_test_split(X, y, train_size=0.8)\n",
    "############################################"
   ]
  },
  {
   "cell_type": "markdown",
   "id": "38d565df",
   "metadata": {},
   "source": [
    "- <font size=4> Step 6. Explore the model parameters </font>\n",
    "  \n",
    "Decision trees are quite easy to use, but they are prone to overfit the training data. Actually almost all the non-parameter learning methods suffer from this problem. We can use pruning to optimize our trained decision trees; we can also adjust the super parameters to avoid overfitting.\n",
    "\n",
    "    The decision tree model  given by the `SkLearn`  is as follows:\n",
    "\n",
    "    ```python\n",
    "    DecisionTreeClassifier(criterion='gini', splitter='best', max_depth=None, min_samples_split=2, min_samples_leaf=1, min_weight_fraction_leaf=0.0, max_features=None, random_state=None, max_leaf_nodes=None, min_impurity_decrease=0.0, class_weight=None, ccp_alpha=0.0)\n",
    "    ```\n",
    "    There are so many arguments and they are all helpful in adjusting the algorithm parameters to achieve the balance between bias and variance.  \n",
    "    Adjust these parameters: `criterion`,`max_depth`, `min_samples_leaf`,  `min_samples_split` , `max_leaf_nodes `,`min_impurity_split `\n",
    "    and explain how it affects the bias and variance of the classification results. \n",
    "\n",
    "\n",
    "\n",
    "\n",
    "\n"
   ]
  },
  {
   "cell_type": "code",
   "execution_count": 5,
   "id": "36708436",
   "metadata": {},
   "outputs": [
    {
     "name": "stdout",
     "output_type": "stream",
     "text": [
      "0.9500000000000001 {'tree__criterion': 'gini', 'tree__max_depth': 2, 'tree__max_leaf_nodes': 3, 'tree__min_impurity_decrease': 0.0, 'tree__min_samples_leaf': 1}\n",
      "0.9583333333333334\n"
     ]
    }
   ],
   "source": [
    "########### Write Your Code Here ###########\n",
    "from sklearn.model_selection import GridSearchCV\n",
    "from sklearn.pipeline import Pipeline\n",
    "from sklearn.tree import DecisionTreeClassifier\n",
    "\n",
    "model = Pipeline([(\"tree\", DecisionTreeClassifier())])\n",
    "\n",
    "DecisionTreeClassifier\n",
    "\n",
    "params = {\"tree__criterion\" : [\"gini\", \"entropy\", \"log_loss\"],\n",
    "          \"tree__max_depth\": range(1, 5),\n",
    "          \"tree__min_samples_leaf\": range(1, 10),\n",
    "          \"tree__max_leaf_nodes\": range(2, 6),\n",
    "          \"tree__min_impurity_decrease\": [x/10 for x in range(5)]}\n",
    "\n",
    "grid_search = GridSearchCV(model, param_grid=params, cv=3)\n",
    "\n",
    "grid_search.fit(X_train, y_train)\n",
    "print(grid_search.best_score_, grid_search.best_params_)\n",
    "print(grid_search.score(X_train, y_train))\n",
    "############################################"
   ]
  },
  {
   "cell_type": "markdown",
   "id": "126c2d7a",
   "metadata": {},
   "source": [
    "    Finally, select the best set of parameters for the following steps."
   ]
  },
  {
   "cell_type": "markdown",
   "id": "e02a8954",
   "metadata": {},
   "source": [
    "- <font size=4> Step 7. Use the model of your choice on the test set </font>\n"
   ]
  },
  {
   "cell_type": "code",
   "execution_count": 6,
   "id": "a8463770",
   "metadata": {},
   "outputs": [],
   "source": [
    "########### Write Your Code Here ###########\n",
    "tree = DecisionTreeClassifier(criterion=\"gini\", max_depth=3, max_leaf_nodes=4, min_impurity_decrease=0.0, min_samples_leaf=2)\n",
    "tree.fit(X_train, y_train)\n",
    "y_pred = tree.predict(X_test)\n",
    "############################################"
   ]
  },
  {
   "cell_type": "markdown",
   "id": "cf2ce1a6",
   "metadata": {},
   "source": [
    "- <font size=4> Step 8. Evaluate the model </font>"
   ]
  },
  {
   "cell_type": "code",
   "execution_count": 28,
   "metadata": {},
   "outputs": [],
   "source": [
    "from sklearn.model_selection import cross_val_score\n",
    "from sklearn.metrics import accuracy_score, f1_score, r2_score\n",
    "\n",
    "def getStdBias(y_true:np.array, y_pred:np.array):\n",
    "    return np.std(y_true - y_pred)\n",
    "    \n",
    "\n",
    "def getVariance(y_true:np.array, y_pred:np.array):\n",
    "    return np.var(np.square(y_true - y_pred))\n",
    "        \n",
    "        \n",
    "def printScores(model):\n",
    "    print(\"Accuracy in train set:\", accuracy_score(y_train, model.predict(X_train)))\n",
    "    print(\"Accuracy in test set:\", accuracy_score(y_test, model.predict(X_test)))\n",
    "    print(\"f1-score in test set:\", f1_score(y_test, y_pred, average=\"weighted\"))\n",
    "    print(\"r2-score in test set:\", r2_score(y_test, y_pred))\n",
    "    print(\"Bias in train-set:\", getStdBias(y_train, model.predict(X_train)))\n",
    "    print(\"Bias in test-set:\", getStdBias(y_test, model.predict(X_test)))\n",
    "    print(\"Variance in train-set:\", getVariance(y_train, model.predict(X_train)))\n",
    "    print(\"Variance in test-set:\", getVariance(y_test, model.predict(X_test)))\n",
    "    print(\"Cross-Validation-Score:\", np.average(cross_val_score(model, X, y, cv = 5)))\n"
   ]
  },
  {
   "cell_type": "code",
   "execution_count": 29,
   "id": "cfe1a334",
   "metadata": {},
   "outputs": [
    {
     "name": "stdout",
     "output_type": "stream",
     "text": [
      "Accuracy in train set: 0.9583333333333334\n",
      "Accuracy in test set: 0.9666666666666667\n",
      "f1-score in test set: 0.9665634674922601\n",
      "r2-score in test set: 0.9516908212560387\n",
      "Bias in train-set: 0.2025874296857203\n",
      "Bias in test-set: 0.17950549357115012\n",
      "Variance in train-set: 0.03993055555555557\n",
      "Variance in test-set: 0.032222222222222215\n",
      "Cross-Validation-Score: 0.96\n"
     ]
    }
   ],
   "source": [
    "from sklearn.metrics import accuracy_score, f1_score, r2_score\n",
    "\n",
    "printScores(tree)"
   ]
  },
  {
   "cell_type": "markdown",
   "id": "ccb79fce",
   "metadata": {},
   "source": [
    "- <font size=4> Step 9. Visual decision boundary and generated decision tree </font>"
   ]
  },
  {
   "cell_type": "code",
   "execution_count": 8,
   "id": "f04d5ebe",
   "metadata": {},
   "outputs": [],
   "source": [
    "########### Write Your Code Here ###########\n",
    "from mlxtend.plotting import plot_decision_regions\n",
    "\n",
    "plot_decision_regions(X_train, y_train, clf=tree)\t\n",
    "plt.title('Decision Tree Classifier')\t\n",
    "plt.show()\t\n",
    "############################################"
   ]
  },
  {
   "cell_type": "markdown",
   "id": "acbf4b92",
   "metadata": {},
   "source": [
    "### Random forest\n",
    "\n",
    "In this section, you are required to use random forests for classification. Thus, in `scikit-learn`, there are two ways to implement a random forset, from the Bagging view and from the RF view.<br>\n",
    "Classify `iris`  using `BaggingClassifier( )` and `RandomForestClassifier( )` respectively, \n",
    "\n",
    "- <font color=blue >**RF view:**</font> we construct a RF class directly.\n",
    "  \n",
    "```python\n",
    "# Use Random Forest directly\n",
    "\n",
    "from sklearn.ensemble import RandomForestClassifier\n",
    "\n",
    "rf_clf = RandomForestClassifier(n_estimators=300,\n",
    "                                random_state=666, # random attributes subset\n",
    "                                oob_score=True,\n",
    "                                # n_jobs=-1\n",
    "                               )\n",
    "rf_clf.fit(X,y)\n",
    "```\n",
    "\n",
    "- <font color=blue face=雅黑>**Bagging view:**</font>  we use the bagging algorithm with a number of base learning algorithms of decision trees.\n",
    "  \n",
    "```python\n",
    "# Use Random Forest from Bagging view\n",
    "\n",
    "from sklearn.ensemble import BaggingClassifier\n",
    "\n",
    "bagging_clf = BaggingClassifier(DecisionTreeClassifier(),\n",
    "                                n_estimators=300,\n",
    "                                max_samples=300,\n",
    "                                bootstrap=True, # using bootstrap sampling method\n",
    "                                oob_score=True, # use oob data for scoring\n",
    "                                # n_jobs=-1 # use paralell computing\n",
    "                               )\n",
    "bagging_clf.fit(X,y)\n",
    "```\n",
    "\n",
    "- Compare the performances of two  methods, and select different parameters for model  and evaluate the model using bias and variance\n"
   ]
  },
  {
   "cell_type": "code",
   "execution_count": 30,
   "id": "9c3b3006",
   "metadata": {},
   "outputs": [
    {
     "name": "stdout",
     "output_type": "stream",
     "text": [
      "Accuracy in train set: 1.0\n",
      "Accuracy in test set: 0.9666666666666667\n",
      "f1-score in test set: 0.9665634674922601\n",
      "r2-score in test set: 0.9516908212560387\n",
      "Bias in train-set: 0.0\n",
      "Bias in test-set: 0.17950549357115012\n",
      "Variance in train-set: 0.0\n",
      "Variance in test-set: 0.032222222222222215\n",
      "Cross-Validation-Score: 0.96\n",
      "\n",
      "Accuracy in train set: 1.0\n",
      "Accuracy in test set: 0.9666666666666667\n",
      "f1-score in test set: 0.9665634674922601\n",
      "r2-score in test set: 0.9516908212560387\n",
      "Bias in train-set: 0.0\n",
      "Bias in test-set: 0.17950549357115012\n",
      "Variance in train-set: 0.0\n",
      "Variance in test-set: 0.032222222222222215\n",
      "Cross-Validation-Score: 0.9666666666666668\n"
     ]
    }
   ],
   "source": [
    "########### Write Your Code Here ###########\n",
    "from sklearn.ensemble import BaggingClassifier, RandomForestClassifier\n",
    "\n",
    "rf_clf = RandomForestClassifier(n_estimators=100,\n",
    "                                random_state=57\n",
    "                                # n_jobs=-1\n",
    "                               )\n",
    "rf_clf.fit(X_train, y_train)\n",
    "printScores(rf_clf)\n",
    "\n",
    "print()\n",
    "\n",
    "bag_clf = BaggingClassifier(DecisionTreeClassifier(),\n",
    "                                n_estimators=100,\n",
    "                                bootstrap=True, # using bootstrap sampling method\n",
    "                                oob_score=True, # use oob data for scoring\n",
    "                                # n_jobs=-1 # use paralell computing\n",
    "                               )\n",
    "bag_clf.fit(X_train, y_train)\n",
    "printScores(bag_clf)\n",
    "############################################"
   ]
  },
  {
   "cell_type": "markdown",
   "id": "e507135b",
   "metadata": {},
   "source": [
    "### Other ensemble learning\n",
    "For classification, we have many models to choose . Please don't just pick a model to train and say it's good enough. We need to select models based on some metrics, such as choosing models with low bias and low variance.\n",
    "\n",
    "In this part, you are required  to use `AdaBoost` and `Gradient boosting`.Compare their performances with decision tree and random forest, and finally select the best model  and the optimal  parameters for iris classification.\n",
    "\n",
    "\n"
   ]
  },
  {
   "cell_type": "code",
   "execution_count": 31,
   "id": "cd238229",
   "metadata": {},
   "outputs": [
    {
     "name": "stdout",
     "output_type": "stream",
     "text": [
      "Accuracy in train set: 0.975\n",
      "Accuracy in test set: 0.9666666666666667\n",
      "f1-score in test set: 0.9665634674922601\n",
      "r2-score in test set: 0.9516908212560387\n",
      "Bias in train-set: 0.15789412767913683\n",
      "Bias in test-set: 0.17950549357115012\n",
      "Variance in train-set: 0.024374999999999997\n",
      "Variance in test-set: 0.032222222222222215\n",
      "Cross-Validation-Score: 0.9466666666666667\n"
     ]
    }
   ],
   "source": [
    "########### Write Your Code Here ###########\n",
    "from sklearn.ensemble import AdaBoostClassifier\n",
    "\n",
    "ada_clf = AdaBoostClassifier()\n",
    "ada_clf.fit(X_train, y_train)\n",
    "printScores(ada_clf)\n",
    "############################################"
   ]
  },
  {
   "cell_type": "code",
   "execution_count": 32,
   "metadata": {},
   "outputs": [
    {
     "name": "stdout",
     "output_type": "stream",
     "text": [
      "Accuracy in train set: 1.0\n",
      "Accuracy in test set: 0.9666666666666667\n",
      "f1-score in test set: 0.9665634674922601\n",
      "r2-score in test set: 0.9516908212560387\n",
      "Bias in train-set: 0.0\n",
      "Bias in test-set: 0.17950549357115012\n",
      "Variance in train-set: 0.0\n",
      "Variance in test-set: 0.032222222222222215\n",
      "Cross-Validation-Score: 0.9600000000000002\n"
     ]
    }
   ],
   "source": [
    "from sklearn.ensemble import GradientBoostingClassifier\n",
    "\n",
    "gbc_clf = GradientBoostingClassifier()\n",
    "\n",
    "gbc_clf.fit(X_train, y_train)\n",
    "printScores(gbc_clf)"
   ]
  },
  {
   "cell_type": "markdown",
   "id": "c4ada32b",
   "metadata": {},
   "source": [
    "\n",
    "<font size=4>Hint: About how to select models and parameters:</font>\n",
    "- Select model using cross validation. Compare the scores in the training set and the validation set. If they are good enough, use the model in the test set.\n",
    "- Calculate the bias and variance of each model to further analyze your chosen model.\n",
    "- Select parameters using cross validation\n",
    "  \n",
    "### Questions:\n",
    "(1) Can decision trees and random forests be used for unsupervised clustering or data dimension reduction? Why?\n",
    "\n",
    "(2) What are the strengths of the decision tree/random forest methods; when do they perform well?\n",
    "\n",
    "(3) What are the weaknesses of the decision tree/random forest methods; when do they perform poorly?\n",
    "\n",
    "(4) What makes the decision tree/random forest a good candidate for the classification/regression problem, if you have enough knowledge about the data?"
   ]
  },
  {
   "cell_type": "markdown",
   "metadata": {},
   "source": [
    "1. 不可以，算法需要提供标签，因此适用于监督学习.\n",
    "\n",
    "2. 决策树模型可以用于小数据集，复杂度较小，速度较快；随机森林相比之下较好的解决了过拟合问题，并且能有效降低模型的方差，适用于高维数据，对于数据集的选择无需额外操作，泛化能力强.\n",
    "\n",
    "3. 决策树容易过拟合，泛化能力较差，对于非分类问题不好，树结构简单，可理解程度高；随机森林计算量更大，计算代价更多，对于回归问题不好用，森林像是黑箱，可理解程度低.\n",
    "\n",
    "4. 如果样本数据量小，且是分类问题，有明显的特征，可以考虑决策树模型.\n"
   ]
  },
  {
   "cell_type": "markdown",
   "id": "9e916b74",
   "metadata": {},
   "source": [
    "## Conclusion\n",
    "- Decision trees are prone to overfitting, but random forest algorithm prevents overfitting.\n",
    "- Random forest algorithm is comparatively time-consuming, whereas decision tree algorithm gives fast results.\n",
    "- There are many arguments for either base decision trees or the whole ensemble algorithm.  A good ensemble algorithm should make sure that base ones are both accurate and diversified.  So it is better to get a set of good enough base tree parameters before training the ensemble learning algorithm. "
   ]
  },
  {
   "cell_type": "markdown",
   "id": "f1c0c458",
   "metadata": {},
   "source": [
    "## References\n",
    "https://scikit-learn.org/stable/"
   ]
  }
 ],
 "metadata": {
  "kernelspec": {
   "display_name": "Python 3.9.12 ('base')",
   "language": "python",
   "name": "python3"
  },
  "language_info": {
   "codemirror_mode": {
    "name": "ipython",
    "version": 3
   },
   "file_extension": ".py",
   "mimetype": "text/x-python",
   "name": "python",
   "nbconvert_exporter": "python",
   "pygments_lexer": "ipython3",
   "version": "3.9.12"
  },
  "orig_nbformat": 4,
  "vscode": {
   "interpreter": {
    "hash": "e7cb1b9ae4d417fedf7f40a8eec98f7cfbd359e096bd857395a915f4609834ce"
   }
  }
 },
 "nbformat": 4,
 "nbformat_minor": 2
}
